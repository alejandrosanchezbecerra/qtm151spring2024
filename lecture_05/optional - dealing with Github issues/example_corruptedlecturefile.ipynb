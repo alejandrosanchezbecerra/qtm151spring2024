{
 "cells": [
  {
   "attachments": {},
   "cell_type": "markdown",
   "metadata": {},
   "source": [
    "# <span style=\"color:darkblue\"> Lecture 3: Mathematical Operations and Random Numbers </span>"
   ]
  },
  {
   "attachments": {},
   "cell_type": "markdown",
   "metadata": {},
   "source": [
    "<font size=\"5\"> \n",
    "\n",
    "In the previous class we:\n",
    "- Introduced lists and variable types\n",
    "- Talked about how to extract elements from a list"
   ]
  },
  {
   "attachments": {},
   "cell_type": "markdown",
   "metadata": {},
   "source": [
    "<font size=\"5\"> \n",
    "\n",
    "In this class we will:\n",
    "\n",
    "- Introduce a library for general mathematical operations\n",
    "- Generate random numbers\n",
    "- (Optional) Matrix operations"
   ]
  },
  {
   "attachments": {},
   "cell_type": "markdown",
   "metadata": {},
   "source": [
    "## <span style=\"color:darkblue\"> I. Import Libraries </span>"
   ]
  },
  {
   "cell_type": "code",
   "execution_count": 1,
   "metadata": {},
   "outputs": [],
   "source": [
    "# the \"numPy\" library is used for mathematical operations\n",
    "# the \"matplotlib\" library is for generating graphs\n",
    "\n",
    "import numpy as np\n",
    "import matplotlib.pyplot as plt\n"
   ]
  },
  {
   "attachments": {},
   "cell_type": "markdown",
   "metadata": {},
   "source": [
    "##  <span style=\"color:darkblue\"> II. Numbers and Functions </span>"
   ]
  },
  {
   "attachments": {},
   "cell_type": "markdown",
   "metadata": {},
   "source": [
    "<font size = \"5\" >\n",
    "Examples of numPy numbers"
   ]
  },
  {
   "cell_type": "code",
   "execution_count": 2,
   "metadata": {},
   "outputs": [
    {
     "data": {
      "text/plain": [
       "3.141592653589793"
      ]
     },
     "execution_count": 2,
     "metadata": {},
     "output_type": "execute_result"
    }
   ],
   "source": [
    "# Computes \"pi\" (3.14...)\n",
    "#cool functions are stored in np package; use . to access functions in a package; format: package.subcommand\n",
    "\n",
    "np.pi"
   ]
  },
  {
   "attachments": {},
   "cell_type": "markdown",
   "metadata": {},
   "source": [
    "<font size = \"5\" >\n",
    "\n",
    "Examples of numPy functions\n",
    "\n",
    "$ ln(x), e^x, sin(x), cos(x), \\sqrt{x}$"
   ]
  },
  {
   "cell_type": "code",
   "execution_count": 3,
   "metadata": {},
   "outputs": [
    {
     "name": "stdout",
     "output_type": "stream",
     "text": [
      "0.0\n",
      "2.718281828459045\n",
      "0.8414709848078965\n",
      "0.5403023058681398\n",
      "1.0\n"
     ]
    }
   ],
   "source": [
    "# log(x) computes the logarithm with base \"e\" (Euler constant)\n",
    "# exp(x) compute the Euler constant raised to the power of \"x\"\n",
    "# sing(x) computes the sine of x\n",
    "# cos(x) computes the cosine of x\n",
    "# In this example, we're substituting x = 1\n",
    "\n",
    "print(np.log(1))\n",
    "print(np.exp(1))\n",
    "print(np.sin(1))\n",
    "print(np.cos(1))\n",
    "print(np.sqrt(1))"
   ]
  },
  {
   "cell_type": "markdown",
   "metadata": {},
   "source": [
    "<font size = \"5\">\n",
    "\n",
<<<<<<< HEAD
    "Raising to the power of a number\n"
=======
    "Raising to the power of a number\n",
    "\n",
    "$ x^5 $"
>>>>>>> upstream/main
   ]
  },
  {
   "cell_type": "code",
<<<<<<< HEAD
   "execution_count": 4,
=======
   "execution_count": 6,
>>>>>>> upstream/main
   "metadata": {},
   "outputs": [
    {
     "data": {
      "text/plain": [
       "100000"
      ]
     },
<<<<<<< HEAD
     "execution_count": 4,
=======
     "execution_count": 6,
>>>>>>> upstream/main
     "metadata": {},
     "output_type": "execute_result"
    }
   ],
   "source": [
    "x = 10\n",
    "x ** 5\n",
<<<<<<< HEAD
=======
    "\n",
>>>>>>> upstream/main
    "# Not x^5"
   ]
  },
  {
   "attachments": {},
   "cell_type": "markdown",
   "metadata": {},
   "source": [
    "<font size = \"5\">\n",
    "\n",
    "Try it yourself!\n",
    "\n",
    "- Create a new variable, $x = 5$\n",
    "- Compute $\\pi x^2$\n",
    "- Compute $ \\frac{1}{\\sqrt{2\\pi}}e^{-x^2} $"
   ]
  },
  {
   "cell_type": "code",
<<<<<<< HEAD
   "execution_count": 18,
=======
   "execution_count": 9,
>>>>>>> upstream/main
   "metadata": {},
   "outputs": [
    {
     "name": "stdout",
     "output_type": "stream",
     "text": [
      "78.53981633974483\n",
      "5.540487995575833e-12\n"
     ]
    }
   ],
   "source": [
    "# Write your own code\n",
    "x = 5\n",
    "print( np.pi * (x**2) )\n",
    "print((1/(np.sqrt ( 2*np.pi ))) * np.exp(-x**2))\n",
    "\n",
    "x = 5\n",
    "print( np.pi * (x**2))\n",
    "\n",
    "print( (1/np.sqrt(2*np.pi))* np.exp(-x**2) )\n",
    "\n"
   ]
  },
  {
   "attachments": {},
   "cell_type": "markdown",
   "metadata": {},
   "source": [
    "##  <span style=\"color:darkblue\"> III. Vector Arrays </span>"
   ]
  },
  {
   "attachments": {},
   "cell_type": "markdown",
   "metadata": {},
   "source": [
    "<font size = \"5\">\n",
    "Create an array from a list\n",
    "\n",
    "$ \\text{ }$\n",
    "$ a = \\begin{pmatrix} 1 \\\\ 2 \\\\ 3 \\end{pmatrix}\n",
    "\\qquad b = \\begin{pmatrix} 0 \\\\ 1 \\\\ 0\\end{pmatrix}\n",
    "\\qquad c = \\begin{pmatrix} 10 \\\\ 100 \\\\ 1000 \\\\ 2000 \\\\ 5000 \\end{pmatrix} \n",
    "\\qquad d = \\begin{pmatrix} 4 \\\\ 2 \\end{pmatrix} $"
   ]
  },
  {
   "cell_type": "code",
<<<<<<< HEAD
   "execution_count": 20,
=======
   "execution_count": 11,
>>>>>>> upstream/main
   "metadata": {},
   "outputs": [],
   "source": [
    "# You create an array by converting a list [1,2,3] to a numeric object\n",
    "# \"array\" is a subfunction of the library numPy.\n",
    "# array vs list: array can do math operations, list can do some, but a very limited set of math\n",
    "# naming conventions: use lowercae and use vec to indicate it is a vector\n",
    "# np is package, . is to use array function in brackets, () used for functions, [] used for lists and arrays\n",
    "\n",
    "vec_a  = np.array([1,2,3])\n",
    "vec_b  = np.array([0,1,0])\n",
<<<<<<< HEAD
    "vec_c  = np.array([10,100,1000,2000,5000])\n",
    "vec_d  = np.array([4,2])\n"
=======
    "vec_c  = np.array([10,100,1000,2000,5000 ])\n"
>>>>>>> upstream/main
   ]
  },
  {
   "attachments": {},
   "cell_type": "markdown",
   "metadata": {},
   "source": [
    "<font size = \"5\">\n",
    "\n",
    "Accessing an element of an array"
   ]
  },
  {
   "cell_type": "code",
<<<<<<< HEAD
   "execution_count": 21,
=======
   "execution_count": 13,
>>>>>>> upstream/main
   "metadata": {},
   "outputs": [
    {
     "name": "stdout",
     "output_type": "stream",
     "text": [
      "1\n",
      "3\n"
     ]
    }
   ],
   "source": [
    "# Arrays, like lists, start their numbering at zero.\n",
    "# You also access them with square brackets\n",
    "\n",
    "print(vec_a[0])\n",
    "print(vec_a[2])\n"
   ]
  },
  {
   "attachments": {},
   "cell_type": "markdown",
   "metadata": {},
   "source": [
    "<font size = \"5\">\n",
    "Operations with a single array and a scalar"
   ]
  },
  {
   "attachments": {},
   "cell_type": "markdown",
   "metadata": {},
   "source": [
    "<font size = \"5\">\n",
    "\n",
    "$ a + 2 = \\begin{pmatrix} a_1 + 2 \\\\ a_2 + 2 \\\\ a_3 + 2 \\end{pmatrix}$"
   ]
  },
  {
   "cell_type": "code",
<<<<<<< HEAD
   "execution_count": 22,
=======
   "execution_count": 14,
>>>>>>> upstream/main
   "metadata": {},
   "outputs": [
    {
     "name": "stdout",
     "output_type": "stream",
     "text": [
      "[2 4 6]\n",
      "[0.5 1.  1.5]\n",
      "[3 4 5]\n",
      "[1 4 9]\n"
     ]
    }
   ],
   "source": [
    "# A scalar refers to either an int or float\n",
    "#eement by element operations or broadcasting\n",
    "# We can do many common operations with \n",
    "\n",
    "print(vec_a * 2)\n",
    "print(vec_a / 2)\n",
    "print(vec_a + 2)\n",
    "print(vec_a ** 2)"
   ]
  },
  {
   "attachments": {},
   "cell_type": "markdown",
   "metadata": {},
   "source": [
    "<font size = \"5\">\n",
    "Element-by-element addition between two arrays of the same size\n",
    "\n",
    "$\\text{ }$\n",
    "\n",
    "$ a + b = \\begin{pmatrix} a_1 \\\\ a_2 \\\\ a_3 \\end{pmatrix} +\n",
    "          \\begin{pmatrix} b_1 \\\\ b_2 \\\\ b_3 \\end{pmatrix} =\n",
    "          \\begin{pmatrix} a_1 + b_1 \\\\ a_2 + b_2 \\\\ a_3 + b_3 \\end{pmatrix}$"
   ]
  },
  {
   "cell_type": "code",
<<<<<<< HEAD
   "execution_count": 23,
=======
   "execution_count": 15,
>>>>>>> upstream/main
   "metadata": {},
   "outputs": [
    {
     "name": "stdout",
     "output_type": "stream",
     "text": [
      "[1 2 3]\n",
      "[0 1 0]\n"
     ]
    }
   ],
   "source": [
    "print(vec_a)\n",
    "print(vec_b)"
   ]
  },
  {
   "cell_type": "code",
<<<<<<< HEAD
   "execution_count": 24,
=======
   "execution_count": 16,
>>>>>>> upstream/main
   "metadata": {},
   "outputs": [
    {
     "name": "stdout",
     "output_type": "stream",
     "text": [
      "[1 3 3]\n"
     ]
    }
   ],
   "source": [
    "# When you add two arrays of the same size,\n",
    "# Python adds the individual elements in each position\n",
    "\n",
    "print(vec_a + vec_b)\n"
   ]
  },
  {
   "attachments": {},
   "cell_type": "markdown",
   "metadata": {},
   "source": [
    "<font size =\"5\">\n",
    "\n",
    "The default multiplication option is element-by element:\n",
    "\n",
    "$ a * b = \\begin{pmatrix} a_1 * b_1 \\\\ a_2 * b_2 \\\\ a_3 * b_3 \\end{pmatrix}$"
   ]
  },
  {
   "cell_type": "code",
<<<<<<< HEAD
   "execution_count": 25,
=======
   "execution_count": 17,
>>>>>>> upstream/main
   "metadata": {},
   "outputs": [
    {
     "name": "stdout",
     "output_type": "stream",
     "text": [
      "[0 2 0]\n",
      "[1 1 3]\n",
      "[inf  2. inf]\n"
     ]
    },
    {
     "name": "stderr",
     "output_type": "stream",
     "text": [
<<<<<<< HEAD
      "C:\\Users\\shann\\AppData\\Local\\Temp\\ipykernel_37912\\3839639845.py:6: RuntimeWarning: divide by zero encountered in divide\n",
=======
      "/var/folders/1b/jzb9ndz97b5260fzr9d8kzyh5f7xd6/T/ipykernel_29828/3839639845.py:6: RuntimeWarning: divide by zero encountered in true_divide\n",
>>>>>>> upstream/main
      "  print(vec_a / vec_b)\n"
     ]
    }
   ],
   "source": [
    "# We can do other similar element-by-element operations\n",
    "# such as multiplication, subtraction, and division.\n",
    "\n",
    "print(vec_a * vec_b)\n",
    "print(vec_a - vec_b)\n",
    "print(vec_a / vec_b)\n"
   ]
  },
  {
   "attachments": {},
   "cell_type": "markdown",
   "metadata": {},
   "source": [
    "<font size = \"5\">\n",
    "Summary statistics of an array"
   ]
  },
  {
   "cell_type": "code",
<<<<<<< HEAD
   "execution_count": 26,
=======
   "execution_count": 18,
>>>>>>> upstream/main
   "metadata": {},
   "outputs": [
    {
     "name": "stdout",
     "output_type": "stream",
     "text": [
      "2.0\n",
      "0.816496580927726\n",
      "1\n",
      "2.0\n",
      "3\n"
     ]
    }
   ],
   "source": [
    "# The function np.mean() computes the mean of an array\n",
    "# We can do similar operations for the standard deviation (std),\n",
    "# the minimum (min), the median (median), and the maximum (max).\n",
    "\n",
    "print(np.mean(vec_a))\n",
    "print(np.std(vec_a))\n",
    "print(np.min(vec_a))\n",
    "print(np.median(vec_a))\n",
    "print(np.max(vec_a))"
   ]
  },
  {
   "attachments": {},
   "cell_type": "markdown",
   "metadata": {},
   "source": [
    "<font size = \"5\">\n",
    "\n",
    "Try it yourself! Compute the mean of\n",
    "\n",
    "\n",
    "$ e = \\begin{pmatrix} 10 \\\\ 8 \\\\ 15 \\\\ 0 \\\\ 24 \\end{pmatrix} $"
   ]
  },
  {
   "cell_type": "code",
<<<<<<< HEAD
   "execution_count": 27,
   "metadata": {},
   "outputs": [
    {
     "name": "stdout",
     "output_type": "stream",
     "text": [
      "11.4\n",
      "10.0\n",
      "7.939773296511683\n",
      "0\n",
      "24\n"
     ]
=======
   "execution_count": 19,
   "metadata": {},
   "outputs": [
    {
     "data": {
      "text/plain": [
       "11.4"
      ]
     },
     "execution_count": 19,
     "metadata": {},
     "output_type": "execute_result"
>>>>>>> upstream/main
    }
   ],
   "source": [
    "# Create your own array and compute any of the above summary statistics\n",
    "\n",
<<<<<<< HEAD
    "vec_e = np.array([10, 8, 15, 0, 24])\n",
    "print(np.mean(vec_e))\n",
    "print(np.median(vec_e))\n",
    "print(np.std(vec_e))\n",
    "print(np.min(vec_e))\n",
    "print(np.max(vec_e))\n",
=======
    "e = np.array( [10,8,15,0,24] )\n",
    "\n",
    "np.mean(e)\n",
>>>>>>> upstream/main
    "\n",
    "\n"
   ]
  },
  {
   "attachments": {},
   "cell_type": "markdown",
   "metadata": {},
   "source": [
    "<font size = \"5\">\n",
    "<span style=\"color:red\"> Common Pitfall </span>: Make sure that the arrays have the same size"
   ]
  },
  {
   "cell_type": "code",
<<<<<<< HEAD
   "execution_count": 28,
=======
   "execution_count": 20,
>>>>>>> upstream/main
   "metadata": {},
   "outputs": [
    {
     "name": "stdout",
     "output_type": "stream",
     "text": [
      "[1 2 3]\n",
      "[  10  100 1000 2000 5000]\n"
     ]
    }
   ],
   "source": [
    "print(vec_a)\n",
    "print(vec_c)"
   ]
  },
  {
   "cell_type": "code",
<<<<<<< HEAD
   "execution_count": 29,
=======
   "execution_count": 21,
>>>>>>> upstream/main
   "metadata": {},
   "outputs": [
    {
     "data": {
      "text/plain": [
       "(3,)"
      ]
     },
<<<<<<< HEAD
     "execution_count": 29,
=======
     "execution_count": 21,
>>>>>>> upstream/main
     "metadata": {},
     "output_type": "execute_result"
    }
   ],
   "source": [
    "vec_a.shape\n",
    "# .shape function gives you rows and columns of a matrix (rows, columns)"
   ]
  },
  {
   "cell_type": "code",
<<<<<<< HEAD
   "execution_count": 30,
=======
   "execution_count": 22,
>>>>>>> upstream/main
   "metadata": {},
   "outputs": [
    {
     "ename": "ValueError",
     "evalue": "operands could not be broadcast together with shapes (3,) (5,) ",
     "output_type": "error",
     "traceback": [
<<<<<<< HEAD
      "\u001b[1;31m---------------------------------------------------------------------------\u001b[0m",
      "\u001b[1;31mValueError\u001b[0m                                Traceback (most recent call last)",
      "Cell \u001b[1;32mIn[30], line 3\u001b[0m\n\u001b[0;32m      1\u001b[0m \u001b[38;5;66;03m# Here I try to combine two arrays of different size.\u001b[39;00m\n\u001b[1;32m----> 3\u001b[0m vec_a \u001b[38;5;241m+\u001b[39m vec_c\n",
      "\u001b[1;31mValueError\u001b[0m: operands could not be broadcast together with shapes (3,) (5,) "
=======
      "\u001b[0;31m---------------------------------------------------------------------------\u001b[0m",
      "\u001b[0;31mValueError\u001b[0m                                Traceback (most recent call last)",
      "\u001b[0;32m/var/folders/1b/jzb9ndz97b5260fzr9d8kzyh5f7xd6/T/ipykernel_29828/3893591031.py\u001b[0m in \u001b[0;36m<module>\u001b[0;34m\u001b[0m\n\u001b[1;32m      1\u001b[0m \u001b[0;31m# Here I try to combine two arrays of different size.\u001b[0m\u001b[0;34m\u001b[0m\u001b[0;34m\u001b[0m\u001b[0m\n\u001b[1;32m      2\u001b[0m \u001b[0;34m\u001b[0m\u001b[0m\n\u001b[0;32m----> 3\u001b[0;31m \u001b[0mvec_a\u001b[0m \u001b[0;34m+\u001b[0m \u001b[0mvec_c\u001b[0m\u001b[0;34m\u001b[0m\u001b[0;34m\u001b[0m\u001b[0m\n\u001b[0m",
      "\u001b[0;31mValueError\u001b[0m: operands could not be broadcast together with shapes (3,) (5,) "
>>>>>>> upstream/main
     ]
    }
   ],
   "source": [
    "# Here I try to combine two arrays of different size.\n",
    "\n",
    "vec_a + vec_c"
   ]
  },
  {
   "attachments": {},
   "cell_type": "markdown",
   "metadata": {},
   "source": [
    "##  <span style=\"color:darkblue\"> IV. Random Numbers </span>\n",
    "\n",
    "<font size = \"5\">\n",
    "\n",
    "Why randomness?\n",
    "\n",
    "- Simulate different scenarios: high risk or low risk\n",
    "- Study properties of a complex system and/or estimator\n",
    "- In medicine, randomly assign subjects to treatment or control"
   ]
  },
  {
   "attachments": {},
   "cell_type": "markdown",
   "metadata": {},
   "source": [
    "<font size = \"5\">\n",
    "\n",
    "Create a vector of random variables"
   ]
  },
  {
   "cell_type": "code",
<<<<<<< HEAD
   "execution_count": 34,
=======
   "execution_count": 37,
>>>>>>> upstream/main
   "metadata": {},
   "outputs": [
    {
     "name": "stdout",
     "output_type": "stream",
     "text": [
<<<<<<< HEAD
      "[-1.50720088 -0.04958365  0.36679196  0.27977233  1.39931836  0.24921506\n",
      "  0.71131115 -0.06218881  0.99709077 -0.70618169]\n"
=======
      "[ 0.28904557 -0.34259521 -1.53873514  1.95141492 -0.25062358 -0.32367552\n",
      " -0.68196447 -1.70393137 -0.43218152 -1.26016168]\n"
>>>>>>> upstream/main
     ]
    }
   ],
   "source": [
    "# This code creates a vector of random variables \n",
    "# generated from a normal distribution with\n",
    "# mean \"loc\" (location) and standard deviation \"scale\"\n",
    "# the number of distinct variabels is \"size\"\n",
    "# produces a different set of numbers every time u run it\n",
    "\n",
    "randomvar_a = np.random.normal(loc=0, scale=1, size=10)\n",
    "print(randomvar_a)"
   ]
  },
  {
   "attachments": {},
   "cell_type": "markdown",
   "metadata": {},
   "source": [
    "<font size = \"5\">\n",
    "\n",
    "Random numbers differ every time!\n",
    "\n",
    "- Avoid this problem by drawing from a \"pregenerated\" set.\n",
    "- This is called a seed"
   ]
  },
  {
   "cell_type": "code",
<<<<<<< HEAD
   "execution_count": 51,
=======
   "execution_count": 56,
>>>>>>> upstream/main
   "metadata": {},
   "outputs": [
    {
     "name": "stdout",
     "output_type": "stream",
     "text": [
<<<<<<< HEAD
      "[ 0.43546395 -0.83964399  1.70847801  0.80494813  0.07449565 -0.50619741\n",
      " -0.88393839  1.40056156  1.24554385  0.28499515]\n"
=======
      "[ 1.3315865   0.71527897 -1.54540029 -0.00838385  0.62133597 -0.72008556\n",
      "  0.26551159  0.10854853  0.00429143 -0.17460021]\n"
>>>>>>> upstream/main
     ]
    }
   ],
   "source": [
    "# Your computer will typically generate different numbers every time you run a command\n",
    "# However, sometimes you want to be able to replicate the results\n",
    "# You can choose any other number instead of \"12345\". This will produce another set\n",
    "# of random numbers, but they will give the same answers\n",
    "#Seed allows you to generate pseudo-random numbers; \n",
    "#If you fix the seed it allows you to generate a pseudo-random number that gives the same result every time\n",
    "\n",
<<<<<<< HEAD
    "np.random.seed(17451)\n",
=======
    "np.random.seed(103931)\n",
>>>>>>> upstream/main
    "\n",
    "random_var_b = np.random.normal(loc=0, scale=1, size=10)\n",
    "print(random_var_b)"
   ]
  },
  {
   "attachments": {},
   "cell_type": "markdown",
   "metadata": {},
   "source": [
    "<font size = \"5\">\n",
    "\n",
    "Compute a histogram with the results"
   ]
  },
  {
   "cell_type": "code",
<<<<<<< HEAD
   "execution_count": 37,
=======
   "execution_count": 58,
>>>>>>> upstream/main
   "metadata": {},
   "outputs": [
    {
     "data": {
      "text/plain": [
       "Text(0, 0.5, 'Frequency')"
      ]
     },
<<<<<<< HEAD
     "execution_count": 37,
=======
     "execution_count": 58,
>>>>>>> upstream/main
     "metadata": {},
     "output_type": "execute_result"
    },
    {
     "data": {
<<<<<<< HEAD
      "image/png": "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",
=======
      "image/png": "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",
>>>>>>> upstream/main
      "text/plain": [
       "<Figure size 640x480 with 1 Axes>"
      ]
     },
     "metadata": {},
     "output_type": "display_data"
    }
   ],
   "source": [
    "# Compute a histogram\n",
    "# You can edit the number of bins with plt.hist(x = randomvar_a)\n",
    "\n",
    "randomvar_x = np.random.normal(loc=0, scale=1, size=1000)\n",
    "\n",
    "plt.hist(x = randomvar_x)\n",
    "plt.xlabel(\"Variable a\")\n",
    "plt.ylabel(\"Frequency\")"
   ]
  },
  {
   "attachments": {},
   "cell_type": "markdown",
   "metadata": {},
   "source": [
    "<font size = \"5\">\n",
    "\n",
    "Try this again with $size = 100, 1000, 10000$"
   ]
  },
  {
   "cell_type": "code",
<<<<<<< HEAD
   "execution_count": 48,
=======
   "execution_count": 64,
>>>>>>> upstream/main
   "metadata": {},
   "outputs": [
    {
     "data": {
      "text/plain": [
       "Text(0, 0.5, 'Frequency')"
      ]
     },
<<<<<<< HEAD
     "execution_count": 48,
=======
     "execution_count": 64,
>>>>>>> upstream/main
     "metadata": {},
     "output_type": "execute_result"
    },
    {
     "data": {
<<<<<<< HEAD
      "image/png": "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",
=======
      "image/png": "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",
>>>>>>> upstream/main
      "text/plain": [
       "<Figure size 640x480 with 1 Axes>"
      ]
     },
     "metadata": {},
     "output_type": "display_data"
    }
   ],
   "source": [
    "# Write the code for your histogram\n",
    "# histogram becomes more evenly distributed as size increases, central limit theorem\n",
    "\n",
<<<<<<< HEAD
    "randomvar_x = np.random.normal(loc=0, scale=1, size=100)\n",
    "\n",
    "plt.hist(x = randomvar_x)\n",
    "plt.xlabel(\"Variable a\")\n",
    "plt.ylabel(\"Frequency\")\n",
    "\n",
    "randomvar_x = np.random.normal(loc=0, scale=1, size=10000)\n",
    "\n",
    "plt.hist(x = randomvar_x)\n",
    "plt.xlabel(\"Variable a\")\n",
    "plt.ylabel(\"Frequency\")\n",
=======
    "# Compute a histogram\n",
    "# You can edit the number of bins with plt.hist(x = randomvar_a)\n",
    "\n",
    "randomvar_x = np.random.normal(loc=0, scale=1, size=10000)\n",
>>>>>>> upstream/main
    "\n",
    "plt.hist(x = randomvar_x)\n",
    "plt.xlabel(\"Variable a\")\n",
    "\n",
    "plt.ylabel(\"Frequency\")\n",
    "\n"
   ]
  },
  {
   "attachments": {},
   "cell_type": "markdown",
   "metadata": {},
   "source": [
    "# <span style=\"color:darkblue\"> Additional Resources </span>\n",
    "\n",
    "<font size=\"5\"> \n",
    "\n",
    "Check out additional examples at:\n",
    "\n",
    "- https://allendowney.github.io/ElementsOfDataScience/03_arrays.html\n",
    "\n",
    "\n"
   ]
  },
  {
   "cell_type": "markdown",
   "metadata": {},
   "source": [
    "<font size = \"20\">\n",
    "\n",
    "asdasd\n"
   ]
  },
  {
   "attachments": {},
   "cell_type": "markdown",
   "metadata": {},
   "source": [
    "# <span style=\"color:darkblue\"> (Optional) Matrix Operations </span>\n",
    "\n",
    "<font size=\"5\"> \n"
   ]
  },
  {
   "attachments": {},
   "cell_type": "markdown",
   "metadata": {},
   "source": [
    "<font size = \"5\">\n",
    "Creating a matrix by stacking different rows\n",
    "\n",
    "$ \\text{ }$\n",
    "\n",
    "$ X = \\begin{pmatrix} 1 & 2 & 3 \\\\ \n",
    "                       0 & 4 & 5 \\\\\n",
    "                       0 & 0 & 6\n",
    "                       \\end{pmatrix} $"
   ]
  },
  {
   "cell_type": "code",
<<<<<<< HEAD
   "execution_count": 42,
=======
   "execution_count": 65,
>>>>>>> upstream/main
   "metadata": {},
   "outputs": [
    {
     "name": "stdout",
     "output_type": "stream",
     "text": [
      "[[1 2 3]\n",
      " [0 4 5]\n",
      " [0 0 6]]\n"
     ]
    }
   ],
   "source": [
    "# Matrices are usually denoted by capital letters\n",
    "# The object [[1,2,3],[4,5,6],[7,8,9]] is a list of lists\n",
    "# It's useful to maintain this notation in the code as well\n",
    "\n",
    "X = np.array([[1,2,3],[0,4,5],[0,0,6]])\n",
    "print(X)"
   ]
  },
  {
   "attachments": {},
   "cell_type": "markdown",
   "metadata": {},
   "source": [
    "<font size = \"5\">\n",
    "Creating a matrix by stacking different columns\n",
    "\n",
    "$ \\text{ } $\n",
    "\n",
    "$ Y = \\begin{pmatrix} 1 & 2 \\\\ 0 & 1 \\\\ 1 & 0 \\end{pmatrix}$"
   ]
  },
  {
   "cell_type": "code",
   "execution_count": 43,
   "metadata": {},
   "outputs": [
    {
     "name": "stdout",
     "output_type": "stream",
     "text": [
      "[[1 2]\n",
      " [0 1]\n",
      " [1 0]]\n"
     ]
    }
   ],
   "source": [
    "# You can also stack columns\n",
    "Y =  np.column_stack([[1,0,1],[2,1,0]])\n",
    "print(Y)"
   ]
  },
  {
   "attachments": {},
   "cell_type": "markdown",
   "metadata": {},
   "source": [
    "<font size = \"5\">\n",
    "Transpose\n",
    "\n",
    "$ \\text{ }$\n",
    "\n",
    "$ Y' = \\begin{pmatrix}  1 & 0 & 1 \\\\ 2 & 1 & 0  \\end{pmatrix} $"
   ]
  },
  {
   "cell_type": "code",
   "execution_count": 44,
   "metadata": {},
   "outputs": [
    {
     "data": {
      "text/plain": [
       "array([[1, 0, 1],\n",
       "       [2, 1, 0]])"
      ]
     },
     "execution_count": 44,
     "metadata": {},
     "output_type": "execute_result"
    }
   ],
   "source": [
    "# Matrix Transpose\n",
    "np.matrix.transpose(Y)"
   ]
  },
  {
   "attachments": {},
   "cell_type": "markdown",
   "metadata": {},
   "source": [
    "<font size = \"5\">\n",
    "\n",
    "Matrix multiplication\n",
    "\n",
    "$ XY = \\begin{pmatrix} 1 & 2 & 3 \\\\ \n",
    "                       0 & 4 & 5 \\\\\n",
    "                       0 & 0 & 6\n",
    "                       \\end{pmatrix}\n",
    "                       \\begin{pmatrix} 1 & 2 \\\\ 0 & 1 \\\\ 1 & 0 \\end{pmatrix} = \n",
    "        \\begin{pmatrix} 4 & 4 \\\\ 5 & 4 \\\\ 6 & 0 \\end{pmatrix} $"
   ]
  },
  {
   "cell_type": "code",
   "execution_count": 45,
   "metadata": {},
   "outputs": [
    {
     "data": {
      "text/plain": [
       "array([[4, 4],\n",
       "       [5, 4],\n",
       "       [6, 0]])"
      ]
     },
     "execution_count": 45,
     "metadata": {},
     "output_type": "execute_result"
    }
   ],
   "source": [
    "# Matrix Multiplication\n",
    "\n",
    "np.dot(X,Y)\n",
    "\n",
    "np.matmul(X,Y)"
   ]
  },
  {
   "attachments": {},
   "cell_type": "markdown",
   "metadata": {},
   "source": [
    "<font size = \"5\">\n",
    "\n",
    "Matrix inverse\n",
    "\n",
    "$ X^{-1} = \\begin{pmatrix} 1 & 2 & 3 \\\\ \n",
    "                       0 & 4 & 5 \\\\\n",
    "                       0 & 0 & 6\n",
    "                       \\end{pmatrix}^{-1} $"
   ]
  },
  {
   "cell_type": "code",
   "execution_count": 46,
   "metadata": {},
   "outputs": [
    {
     "name": "stdout",
     "output_type": "stream",
     "text": [
      "23.999999999999993\n",
      "[[ 1.         -0.5        -0.08333333]\n",
      " [ 0.          0.25       -0.20833333]\n",
      " [ 0.          0.          0.16666667]]\n"
     ]
    }
   ],
   "source": [
    "# Check the determinant of a matrix (a matrix is invertible if the determinant is not zero)\n",
    "print(np.linalg.det(X))\n",
    "\n",
    "# Matrix inverse\n",
    "# The following command stands for linear algebrar inverse.\n",
    "X_inv = np.linalg.inv(X)\n",
    "\n",
    "# Output the result\n",
    "print(X_inv)\n"
   ]
  },
  {
   "attachments": {},
   "cell_type": "markdown",
   "metadata": {},
   "source": [
    "<font size = \"5\">\n",
    "\n",
    "Try it yourself! Check that this is indeed an inverse:\n",
    "\n",
    "$X X_{inv} = \\begin{pmatrix} 1 & 0 & 0 \\\\ 0 & 1 & 0 \\\\ 0 & 0 & 1 \\end{pmatrix}$"
   ]
  },
  {
   "cell_type": "code",
   "execution_count": 47,
   "metadata": {},
   "outputs": [],
   "source": [
    "# Multiply \"X\" times \"X_inv\" using the command shown above\n",
    "# Note: Sometimes the result is shown in scientific notation.\n",
    "\n",
    "\n",
    "\n"
   ]
  }
 ],
 "metadata": {
  "kernelspec": {
   "display_name": "base",
   "language": "python",
   "name": "python3"
  },
  "language_info": {
   "codemirror_mode": {
    "name": "ipython",
    "version": 3
   },
   "file_extension": ".py",
   "mimetype": "text/x-python",
   "name": "python",
   "nbconvert_exporter": "python",
   "pygments_lexer": "ipython3",
<<<<<<< HEAD
   "version": "3.11.5"
=======
   "version": "3.9.13"
>>>>>>> upstream/main
  },
  "orig_nbformat": 4,
  "vscode": {
   "interpreter": {
    "hash": "45fc1f684f6f416f40889115beff3ddf69879b64cf4bfee48cb72a61e9d15d1a"
   }
  }
 },
 "nbformat": 4,
 "nbformat_minor": 2
}
