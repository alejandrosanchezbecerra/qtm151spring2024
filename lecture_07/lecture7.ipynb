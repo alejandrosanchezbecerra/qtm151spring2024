{
 "cells": [
  {
   "attachments": {},
   "cell_type": "markdown",
   "metadata": {},
   "source": [
    "# <span style=\"color:darkblue\"> Lecture 7: User-defined Functions </span>"
   ]
  },
  {
   "attachments": {},
   "cell_type": "markdown",
   "metadata": {},
   "source": [
    "## <span style=\"color:darkblue\"> I. Import Libraries </span>"
   ]
  },
  {
   "cell_type": "code",
   "execution_count": 1,
   "metadata": {},
   "outputs": [],
   "source": [
    "# the \"numPy\" library is used for mathematical operations\n",
    "# the \"matplotlib\" library is for generating graphs\n",
    "# the \"pandas\" library is for manipualting datasets\n",
    "\n",
    "import numpy as np\n",
    "import matplotlib.pyplot as plt\n",
    "import pandas as pd"
   ]
  },
  {
   "attachments": {},
   "cell_type": "markdown",
   "metadata": {},
   "source": [
    "## <span style=\"color:darkblue\"> II. Introduction to Functions </span>"
   ]
  },
  {
   "attachments": {},
   "cell_type": "markdown",
   "metadata": {},
   "source": [
    "<font size=\"5\"> \n",
    "\n",
    "A function is ...\n",
    "\n",
    "- a **block of reusable** code to perform a a specific task\n",
    "- Functions avoid repetition\n",
    "- As our code grows larger, functions make it more manageable\n",
    "\n"
   ]
  },
  {
   "attachments": {},
   "cell_type": "markdown",
   "metadata": {},
   "source": [
    "<font size=\"5\"> \n",
    "\n",
    "\"Built-in\" functions are those from Python libraries, e.g.\n",
    "\n",
    "```print()```, ```type()```, ```round()```,```abs()```, ```len()```\n",
    "\n",
    "- The \"arguments\" are the values of the inputs\n",
    "- The \"return\" is the output\n"
   ]
  },
  {
   "cell_type": "code",
   "execution_count": 2,
   "metadata": {},
   "outputs": [
    {
     "name": "stdout",
     "output_type": "stream",
     "text": [
      "Hello 24\n"
     ]
    }
   ],
   "source": [
    "# Argument:   \"Hello\" \n",
    "# Return:     Showing the message on screen\n",
    "\n",
    "print(\"Hello \"+str(24))\n"
   ]
  },
  {
   "cell_type": "code",
   "execution_count": 3,
   "metadata": {},
   "outputs": [
    {
     "data": {
      "text/plain": [
       "str"
      ]
     },
     "execution_count": 3,
     "metadata": {},
     "output_type": "execute_result"
    }
   ],
   "source": [
    "# Argument:  3.14\n",
    "# Return:    The type of object, e.g. int, str, boolean, float, etc.\n",
    "\n",
    "type(\"ABC\")\n"
   ]
  },
  {
   "cell_type": "code",
   "execution_count": 4,
   "metadata": {},
   "outputs": [
    {
     "data": {
      "text/plain": [
       "3.141593"
      ]
     },
     "execution_count": 4,
     "metadata": {},
     "output_type": "execute_result"
    }
   ],
   "source": [
    "# First Argument:   np.pi     (a numeric value)\n",
    "# Second Argument:  6         (the number of decimals)\n",
    "# Return:  Round the first argument, given the number of decimals in the second argument\n",
    "\n",
    "round(np.pi,  6)\n"
   ]
  },
  {
   "cell_type": "code",
   "execution_count": 5,
   "metadata": {},
   "outputs": [
    {
     "data": {
      "text/plain": [
       "4"
      ]
     },
     "execution_count": 5,
     "metadata": {},
     "output_type": "execute_result"
    }
   ],
   "source": [
    "# Argument: -4\n",
    "# Return:   The absolute value\n",
    "abs(-4)\n"
   ]
  },
  {
   "cell_type": "code",
   "execution_count": 6,
   "metadata": {},
   "outputs": [
    {
     "name": "stdout",
     "output_type": "stream",
     "text": [
      "5\n",
      "3\n"
     ]
    }
   ],
   "source": [
    "list_fruits = [\"Apple\",\"Orange\",\"Pear\"]\n",
    "\n",
    "# Argument: list_fruits\n",
    "# Return:   The number of elements in the list\n",
    "print(len('Hello'))\n",
    "print(len(list_fruits))"
   ]
  },
  {
   "attachments": {},
   "cell_type": "markdown",
   "metadata": {},
   "source": [
    "<font size = \"5\">\n",
    "\n",
    "Enter arguments by assigning parameters"
   ]
  },
  {
   "cell_type": "code",
   "execution_count": 7,
   "metadata": {},
   "outputs": [],
   "source": [
    "# Here \"df\" and \"size\" are both parameters\n",
    "# They get assigned the arguments \"2\" and \"20\", respectively\n",
    "# The return is a vector of random variables\n",
    "\n",
    "vec_x = np.random.chisquare(df = 2, size = 20)\n"
   ]
  },
  {
   "cell_type": "code",
   "execution_count": 8,
   "metadata": {},
   "outputs": [
    {
     "data": {
      "text/plain": [
       "array([2.48306094, 0.08396732, 5.44775726, 0.0722407 , 0.01721448,\n",
       "       5.37609447, 1.16066626, 6.91497048, 0.06507639, 2.72180992,\n",
       "       0.48652055, 3.70564779, 0.7140625 , 1.55815191, 2.32562866,\n",
       "       1.06014348, 0.80209609, 6.12382958, 9.75819977, 0.6578811 ])"
      ]
     },
     "execution_count": 8,
     "metadata": {},
     "output_type": "execute_result"
    }
   ],
   "source": [
    "vec_x"
   ]
  },
  {
   "cell_type": "code",
   "execution_count": 9,
   "metadata": {},
   "outputs": [],
   "source": [
    "vec_y = np.random.normal(loc = 2, scale = 1, size = 20)\n",
    "vec_z = np.random.uniform(low = -2, high =2, size = 50)"
   ]
  },
  {
   "cell_type": "code",
   "execution_count": 10,
   "metadata": {},
   "outputs": [
    {
     "name": "stdout",
     "output_type": "stream",
     "text": [
      "[1.64585351 3.34554054 2.23360508 1.75245862 2.43963574 2.21884727\n",
      " 2.06204568 0.98056385 2.20347148 1.27792811 1.0862362  1.67025946\n",
      " 2.18079392 1.3486328  1.8346028  1.58058795 3.2901564  1.57327154\n",
      " 2.55755099 1.784808  ]\n",
      "[-1.42601344 -0.31991573  1.44123887  1.40241047  0.86270777  1.62110801\n",
      "  1.99501353  0.18062393 -0.5665597   1.67209732 -0.83996862  0.87311022\n",
      "  0.49646647 -0.24773589 -1.40185645 -1.27338659 -1.16104454 -1.19713486\n",
      "  1.694502   -0.39216809  1.48363978  0.51910566 -1.75580557  0.53538449\n",
      " -1.36964757 -0.2576391   0.26613876  0.93223277 -1.57459662 -0.21047921\n",
      " -0.5416337   1.83433475 -0.76733762  1.23056003  1.49558703 -0.69548664\n",
      "  0.13611932 -1.10529839 -1.36462695 -0.66488623 -1.59725663 -1.59415368\n",
      "  0.70525418 -0.89283443  1.82598358 -1.85655059  0.38365053 -1.45684059\n",
      " -0.68945038 -1.7353057 ]\n"
     ]
    }
   ],
   "source": [
    "print(vec_y)\n",
    "print(vec_z)"
   ]
  },
  {
   "attachments": {},
   "cell_type": "markdown",
   "metadata": {},
   "source": [
    "<font size = \"5\">\n",
    "\n",
    "Discussion:\n",
    "\n",
    "- What are the parameters, arguments, and returns above?\n"
   ]
  },
  {
   "attachments": {},
   "cell_type": "markdown",
   "metadata": {},
   "source": [
    "## <span style=\"color:darkblue\"> III. Custom Functions </span>"
   ]
  },
  {
   "attachments": {},
   "cell_type": "markdown",
   "metadata": {},
   "source": [
    "<font size = \"5\">\n",
    "\n",
    "You can write your own functions:\n",
    "\n",
    "```python\n",
    "\n",
    "    #---- DEFINE\n",
    "    def my_function(parameter):\n",
    "        body\n",
    "        return expression\n",
    "\n",
    "    #---- RUN\n",
    "    my_function(parameter = argument) \n",
    "\n",
    "    #---- RUN\n",
    "    my_function(argument)\n",
    "```\n",
    "<br>"
   ]
  },
  {
   "attachments": {},
   "cell_type": "markdown",
   "metadata": {},
   "source": [
    "<font size = \"5\">\n",
    "\n",
    "Example: Calculate\n",
    "\n",
    "$V=P\\left(1+{\\frac {r}{n}}\\right)^{nt}$\n",
    "\n",
    "\n"
   ]
  },
  {
   "cell_type": "code",
   "execution_count": 11,
   "metadata": {},
   "outputs": [],
   "source": [
    "# We are going to define a function \"fn_compute_value\"\n",
    "# You can choose any name\n",
    "# Using prefixes like \"fn_\" can help you remember this is a \"function\" object\n",
    "# What are the parameters?\n",
    "\n",
    "def function_v(P, r,n, t):\n",
    "    v = P*(1+(r/n))**(n*t)\n",
    "    return v"
   ]
  },
  {
   "cell_type": "code",
   "execution_count": 12,
   "metadata": {},
   "outputs": [
    {
     "data": {
      "text/plain": [
       "110.51432983541218"
      ]
     },
     "execution_count": 12,
     "metadata": {},
     "output_type": "execute_result"
    }
   ],
   "source": [
    "function_v(P=100, r = 0.01, n = 20, t=10)"
   ]
  },
  {
   "cell_type": "code",
   "execution_count": 13,
   "metadata": {},
   "outputs": [
    {
     "name": "stdout",
     "output_type": "stream",
     "text": [
      "1105.1432983541217\n",
      "11.051432983541218\n"
     ]
    }
   ],
   "source": [
    "# You can know compute the formula with different values\n",
    "\n",
    "V1 = function_v(P = 1000, r = 0.01, n = 20, t=10)\n",
    "V2 = function_v(P = 10, r = 0.01, n = 20, t=10)\n",
    "\n",
    "print(V1)\n",
    "print(V2)"
   ]
  },
  {
   "attachments": {},
   "cell_type": "markdown",
   "metadata": {},
   "source": [
    "<font size = \"5\">\n",
    "\n",
    "Try it yourself:\n",
    "\n",
    "- Write a function that calculates <br>\n",
    " $f(x) = x^2 + 2x + 1$.\n"
   ]
  },
  {
   "cell_type": "code",
   "execution_count": 14,
   "metadata": {},
   "outputs": [
    {
     "name": "stdout",
     "output_type": "stream",
     "text": [
      "841\n"
     ]
    }
   ],
   "source": [
    "# Write your own code here\n",
    "\n",
    "def function_y(x):\n",
    "    y = (x**2)+(2*x)+1\n",
    "    return y\n",
    "\n",
    "V1 = function_y(x=28)\n",
    "print(V1)\n",
    "\n"
   ]
  },
  {
   "attachments": {},
   "cell_type": "markdown",
   "metadata": {},
   "source": [
    "<font size = \"5\">\n",
    "\n",
    "Try it yourself: Write a function\n",
    "\n",
    "- with a parameter \"numeric_grade\"\n",
    "- Inside the function write an <br>\n",
    "if/else statement for grade $\\ge 55$.\n",
    "- If it's true, then assign \"status = pass\"\n",
    "- If it's false, then assign \"status = fail\"\n",
    "- Return the value of \"status\""
   ]
  },
  {
   "cell_type": "code",
   "execution_count": 26,
   "metadata": {},
   "outputs": [],
   "source": [
    "# Write your own code\n",
    "\n",
    "def f_num(numeric_grade):\n",
    "    if numeric_grade>=55:\n",
    "        return 'pass'\n",
    "    else:\n",
    "        return 'fail'"
   ]
  },
  {
   "cell_type": "code",
   "execution_count": 16,
   "metadata": {},
   "outputs": [],
   "source": [
    "def f_num_one(numeric_grade):\n",
    "    if numeric_grade >= 50:\n",
    "        status = 'pass'\n",
    "    else:\n",
    "        status = 'fail'\n",
    "    return status"
   ]
  },
  {
   "cell_type": "code",
   "execution_count": 17,
   "metadata": {},
   "outputs": [
    {
     "name": "stdout",
     "output_type": "stream",
     "text": [
      "fail\n",
      "pass\n"
     ]
    }
   ],
   "source": [
    "print(f_num(40))\n",
    "print(f_num_one(53))"
   ]
  },
  {
   "attachments": {},
   "cell_type": "markdown",
   "metadata": {},
   "source": [
    "<font size = \"5\">\n",
    "\n",
    "Try it yourself! Write a function \n",
    "- Write a function with parameters <br>\n",
    " \"first_name\", \"last_name\", \"car_model\"\n",
    "- Return a message saying:\n",
    "\n",
    "\"Dear customer {first_name} {last_name}, <br>\n",
    "your car model {car_model} is ready\" \n",
    "\n",
    "\n",
    "\n"
   ]
  },
  {
   "cell_type": "code",
   "execution_count": 18,
   "metadata": {},
   "outputs": [
    {
     "data": {
      "text/plain": [
       "'Dear customer Eric Wang, your car model Toyota is ready'"
      ]
     },
     "execution_count": 18,
     "metadata": {},
     "output_type": "execute_result"
    }
   ],
   "source": [
    "# Write your own code\n",
    "def carmodel(first_name, last_name,car_model):\n",
    "    return(\"Dear customer \" + first_name + \" \" + last_name + \", your car model \" + car_model + \" is ready\")\n",
    "\n",
    "carmodel(\"Eric\", \"Wang\", \"Toyota\")"
   ]
  },
  {
   "attachments": {},
   "cell_type": "markdown",
   "metadata": {},
   "source": [
    "## <span style=\"color:darkblue\"> III. Lambda Functions </span>\n",
    "\n",
    "<font size = \"5\">\n",
    "\n",
    "\"Lambda Functions\" are defined in one line:\n",
    "\n",
    "```python\n",
    "my_function = lambda parameters: expression\n",
    "```"
   ]
  },
  {
   "attachments": {},
   "cell_type": "markdown",
   "metadata": {},
   "source": [
    "<font size = \"5\">\n",
    "\n",
    "Example: Calculate $x + y + z$"
   ]
  },
  {
   "cell_type": "code",
   "execution_count": 19,
   "metadata": {},
   "outputs": [
    {
     "data": {
      "text/plain": [
       "6"
      ]
     },
     "execution_count": 19,
     "metadata": {},
     "output_type": "execute_result"
    }
   ],
   "source": [
    "# (a) Define function\n",
    "fn_sum = lambda x,y,z: x + y + z\n",
    "\n",
    "# (b) Run function\n",
    "fn_sum(1,2,3)"
   ]
  },
  {
   "attachments": {},
   "cell_type": "markdown",
   "metadata": {},
   "source": [
    "<font size = \"5\"> Example: Calculate\n",
    "\n",
    "$V=P\\left(1+{\\frac {r}{n}}\\right)^{nt}$\n"
   ]
  },
  {
   "cell_type": "code",
   "execution_count": 20,
   "metadata": {},
   "outputs": [],
   "source": [
    "fn_v = lambda P, r, n, t: P*(1+(r/n))**(n*t)"
   ]
  },
  {
   "cell_type": "code",
   "execution_count": 21,
   "metadata": {},
   "outputs": [
    {
     "name": "stdout",
     "output_type": "stream",
     "text": [
      "1105.1432983541217\n",
      "11.051432983541218\n"
     ]
    }
   ],
   "source": [
    "V1 = fn_v(P = 1000, r = 0.01, n = 20, t=10)\n",
    "V2 = fn_v(P = 10, r = 0.01, n = 20, t=10)\n",
    "\n",
    "print(V1)\n",
    "print(V2)"
   ]
  },
  {
   "attachments": {},
   "cell_type": "markdown",
   "metadata": {},
   "source": [
    "<font size = \"5\">\n",
    "\n",
    "Try it yourself!\n",
    "\n",
    "(a) Boleean + Functions\n",
    "\n",
    "- Write a function called \"fn_iseligible_vote\"\n",
    "- This functions returns a boolean value <br>\n",
    " that checks whether age $\\ge$ 18"
   ]
  },
  {
   "cell_type": "code",
   "execution_count": 22,
   "metadata": {},
   "outputs": [
    {
     "name": "stdout",
     "output_type": "stream",
     "text": [
      "True\n",
      "False\n"
     ]
    }
   ],
   "source": [
    "# Write your own code\n",
    "\n",
    "fn_iseligible_vote = lambda age: age >=18\n",
    "\n",
    "print(fn_iseligible_vote(age = 190))\n",
    "print(fn_iseligible_vote(age = 17))\n"
   ]
  },
  {
   "attachments": {},
   "cell_type": "markdown",
   "metadata": {},
   "source": [
    "<font size = \"5\">\n",
    "\n",
    "(b) Looping  + Functions\n",
    "\n",
    "- Create list_ages = [18,29,15,32,6]\n",
    "- Write a loop that checks whether above ages are eligible to vote\n",
    "- Use the above function"
   ]
  },
  {
   "cell_type": "code",
   "execution_count": 23,
   "metadata": {},
   "outputs": [
    {
     "name": "stdout",
     "output_type": "stream",
     "text": [
      "Age 18 is eligible? True\n",
      "Age 29 is eligible? True\n",
      "Age 15 is eligible? False\n",
      "Age 32 is eligible? True\n",
      "Age 6 is eligible? False\n"
     ]
    }
   ],
   "source": [
    "# Write your own code\n",
    "\n",
    "list_ages = [18,29,15,32,6]\n",
    "\n",
    "for age in list_ages: \n",
    "    print(\"Age \" + str(age) + \" is eligible? \" + str(fn_iseligible_vote(age)))\n"
   ]
  },
  {
   "attachments": {},
   "cell_type": "markdown",
   "metadata": {},
   "source": [
    "## <span style=\"color:darkblue\"> IV. (Optional) Functions for visualization </span>\n",
    "\n",
    "<font size = \"5\">\n",
    "Returning a value is not always necesary, you can write:\n",
    "\n",
    "```python\n",
    "\n",
    "    #---- DEFINE\n",
    "    def my_function(parameter):\n",
    "        body\n",
    "```"
   ]
  },
  {
   "attachments": {},
   "cell_type": "markdown",
   "metadata": {},
   "source": [
    "<font size = \"5\">\n",
    "\n",
    "Example: A customized plot\n",
    "\n",
    "- You can use functions to store your favorite aesthetic"
   ]
  },
  {
   "cell_type": "code",
   "execution_count": 24,
   "metadata": {},
   "outputs": [
    {
     "data": {
      "image/png": "[encoded data removed]",
      "text/plain": [
       "<Figure size 640x480 with 1 Axes>"
      ]
     },
     "metadata": {},
     "output_type": "display_data"
    },
    {
     "data": {
      "image/png": "[encoded data removed]",
      "text/plain": [
       "<Figure size 640x480 with 1 Axes>"
      ]
     },
     "metadata": {},
     "output_type": "display_data"
    }
   ],
   "source": [
    "# Define the function\n",
    "def red_histogram(vec_x,title):\n",
    "    plt.hist(x = vec_x, color = \"red\")\n",
    "    plt.title(title)\n",
    "    plt.ylabel(\"Frequency\")\n",
    "    plt.show()\n",
    "\n",
    "carfeatures = pd.read_csv(\"data/features.csv\")\n",
    "\n",
    "red_histogram(vec_x = carfeatures[\"weight\"], title = \"Histogram\")\n",
    "red_histogram(vec_x = carfeatures[\"acceleration\"], title = \"Histogram\")\n"
   ]
  },
  {
   "attachments": {},
   "cell_type": "markdown",
   "metadata": {},
   "source": [
    "<font size = \"5\">\n",
    "\n",
    "Try it yourself!\n",
    "\n",
    "Create a function that computes a red scatter plot <br>\n",
    " that takes $y$ and $x$ inputs"
   ]
  },
  {
   "cell_type": "code",
   "execution_count": 29,
   "metadata": {},
   "outputs": [
    {
     "data": {
      "image/png": "[encoded data removed]",
      "text/plain": [
       "<Figure size 640x480 with 1 Axes>"
      ]
     },
     "metadata": {},
     "output_type": "display_data"
    }
   ],
   "source": [
    "# Write your own code\n",
    "# Define the function\n",
    "def red_scatter_plot(vec_x, vec_y, title):\n",
    "    plt.scatter(x = vec_x, y = vec_y, color = \"red\")\n",
    "    plt.title(title)\n",
    "    plt.xlabel(\"X Values\")\n",
    "    plt.ylabel(\"Y Values\")\n",
    "    plt.show()\n",
    "\n",
    "carfeatures = pd.read_csv(\"data/features.csv\")\n",
    "\n",
    "red_scatter_plot(vec_x = carfeatures[\"weight\"], vec_y = carfeatures[\"acceleration\"], title = \"Scatter Plot\")"
   ]
  }
 ],
 "metadata": {
  "kernelspec": {
   "display_name": "base",
   "language": "python",
   "name": "python3"
  },
  "language_info": {
   "codemirror_mode": {
    "name": "ipython",
    "version": 3
   },
   "file_extension": ".py",
   "mimetype": "text/x-python",
   "name": "python",
   "nbconvert_exporter": "python",
   "pygments_lexer": "ipython3",
   "version": "3.11.5"
  },
  "orig_nbformat": 4,
  "vscode": {
   "interpreter": {
    "hash": "45fc1f684f6f416f40889115beff3ddf69879b64cf4bfee48cb72a61e9d15d1a"
   }
  }
 },
 "nbformat": 4,
 "nbformat_minor": 2
}
