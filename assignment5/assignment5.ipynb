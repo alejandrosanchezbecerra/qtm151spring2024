{
 "cells": [
  {
   "attachments": {},
   "cell_type": "markdown",
   "metadata": {},
   "source": [
    "# Assignment 5"
   ]
  },
  {
   "attachments": {},
   "cell_type": "markdown",
   "metadata": {},
   "source": [
    "## Try to submit as an HTML file"
   ]
  },
  {
   "attachments": {},
   "cell_type": "markdown",
   "metadata": {},
   "source": [
    "<font size = \"5\">\n",
    "Print your Emory code below"
   ]
  },
  {
   "cell_type": "code",
   "execution_count": null,
   "metadata": {},
   "outputs": [],
   "source": [
    "# Write your answer here:\n",
    "\n"
   ]
  },
  {
   "attachments": {},
   "cell_type": "markdown",
   "metadata": {},
   "source": [
    "<font size = \"5\">\n",
    "\n",
    "Import the \"pandas\" library"
   ]
  },
  {
   "cell_type": "code",
   "execution_count": null,
   "metadata": {},
   "outputs": [],
   "source": [
    "# Write your answer here:\n",
    "\n"
   ]
  },
  {
   "attachments": {},
   "cell_type": "markdown",
   "metadata": {},
   "source": [
    "<font size = \"5\">\n",
    "\n",
    "Import the  \"os\" library\n",
    "\n",
    "- This is the \"operating system\" library\n",
    "- Helpful for managing folders"
   ]
  },
  {
   "cell_type": "code",
   "execution_count": null,
   "metadata": {},
   "outputs": [],
   "source": [
    "# Write your answer here:\n",
    "\n"
   ]
  },
  {
   "attachments": {},
   "cell_type": "markdown",
   "metadata": {},
   "source": [
    "<font size = \"5\">\n",
    "\n",
    "(a) Check the working directory\n",
    "\n",
    "<font size = \"3\">\n",
    "\n",
    "- We will use a new command ``` os.getcwd() ```\n",
    "- This shows you the current working directory (CWD) in your computer\n",
    "- This is usually the folder where your Python notebook is stored\n",
    "\n",
    "(1) Run the following commands:\n",
    "\n",
    "- Get CWD: ``` current_directory = os.getcwd() ```\n",
    "- Print CWD: ``` print(current_directory) ```\n",
    "\n",
    "(2) After getting the working directory, let's check the contents in the cwd. <br>\n",
    "\n",
    "(Please do this in a seperate markdown chunk)\n",
    "\n",
    "- Store the names of the files in the current directory <br>\n",
    "to a list using the command <br>\n",
    "``` os.listdir() ```\n",
    "- Print the list of files: `print(ls_files)`\n",
    "\n",
    "(3) You would see a folder called wdi_data, let's explore what is contained in it.\n",
    "\n",
    "- Change the working directory as the path to folder `wdi_data`: \n",
    "    - Try both\n",
    "        - ```os.chdir(current_directory+\"/\"+ls_files[2])```<br>\n",
    "         (change the list position to reflect the location of 'wdi_data' if necessary)\n",
    "        - ```os.chdir(current_directory+\"/wdi_data\")```\n",
    "\n",
    "- Get the CWR and check the files and folders in the directory: <br>\n",
    " ```print(os.listdir(os.getcwd()))```\n",
    "\n",
    "(4) Change your working directory back to the original ```current_directory```\n"
   ]
  },
  {
   "cell_type": "code",
   "execution_count": null,
   "metadata": {},
   "outputs": [],
   "source": [
    "# Write your answer for (1) here\n",
    "\n",
    "\n"
   ]
  },
  {
   "cell_type": "code",
   "execution_count": null,
   "metadata": {},
   "outputs": [],
   "source": [
    "# Write your answer for (2) here\n",
    "\n"
   ]
  },
  {
   "cell_type": "code",
   "execution_count": null,
   "metadata": {},
   "outputs": [],
   "source": [
    "# Write your answer for (3) here\n",
    "\n",
    "\n"
   ]
  },
  {
   "cell_type": "code",
   "execution_count": null,
   "metadata": {},
   "outputs": [],
   "source": [
    "# Write your answer for (4) here\n",
    "\n"
   ]
  },
  {
   "attachments": {},
   "cell_type": "markdown",
   "metadata": {},
   "source": [
    "<font size = \"5\">\n",
    "(b) Store dataset `wdi_2000.csv` in another folder\n",
    "\n",
    "<font size = \"3\">\n",
    "\n",
    "<br>\n",
    "\n",
    "- Create a variable: $\\quad$ ``` dataset_name  = \"wdi_2000.csv\" ```\n",
    "- Create a variable: $\\quad$ ``` old_directory = \"wdi_data/\" ```\n",
    "- Create a variable: $\\quad$ ``` new_directory = \"clean_data/\" ```\n",
    "- Create a variable \n",
    "$\\quad$ ``` old_path  = old_directory +  dataset_name```\n",
    "- Create a variable \n",
    "$\\quad$ ``` new_path  = new_directory +  dataset_name```\n",
    "- Read the the csv file in the old location and save it to the new location\n",
    "\n"
   ]
  },
  {
   "cell_type": "code",
   "execution_count": null,
   "metadata": {},
   "outputs": [],
   "source": [
    "# Write your answer here:\n",
    "\n",
    "\n",
    "\n"
   ]
  },
  {
   "attachments": {},
   "cell_type": "markdown",
   "metadata": {},
   "source": [
    "<font size = \"5\">\n",
    "\n",
    "(c) Extract files from a directory\n",
    "\n",
    "\n",
    "<font size = \"3\" >\n",
    "- Get a list of files in the \"wdi_data\" folder\n",
    "\n",
    " ``` list_filenames = os.listdir(\"wdi_data\") ```\n",
    "\n",
    " - Print the list of files\n",
    " - Create an empty list called ```list_csv_files ```\n",
    " - Run a for-loop over ```list_filenames```\n",
    " - Append each element to ```list_csv_files ``` if its name ends in \".csv\"\n",
    " - Add an else statement which prints <br>\n",
    " ``` Filename does not end with .csv```<br>\n",
    "  where \"Filename\" is replaced with the actual file that doesn't end with .csv\n",
    " - Print ```list_csv_files ```\n",
    "\n",
    " The goal is to list all CSV files in the directory\n",
    "\n",
    " HINT:\n",
    " - Read the lecture on boolean variables\n",
    " - To get the 4th to  last character of a string <br>\n",
    " you can first find the length of the string and then subtract 4\n",
    " "
   ]
  },
  {
   "cell_type": "code",
   "execution_count": null,
   "metadata": {},
   "outputs": [],
   "source": [
    "# Write your answer here:\n",
    "\n",
    "\n",
    "\n",
    "\n"
   ]
  },
  {
   "attachments": {},
   "cell_type": "markdown",
   "metadata": {},
   "source": [
    "<font size = \"5\">\n",
    "\n",
    "(d) Calculating the number of countries that have a  proportion <br>\n",
    " of urban population between 20 and 60 percent\n",
    "\n",
    "<font size = \"3\">\n",
    "\n",
    "- (1) First read the wdi_2020 dataset.\n",
    "- (2) Then calculate the number of countries(rows) <br>\n",
    "that have their \"prop_urbanpopulation\" column between 20 and 60.\n",
    "- (3) Print the resulting output."
   ]
  },
  {
   "cell_type": "code",
   "execution_count": null,
   "metadata": {},
   "outputs": [],
   "source": [
    "# Write your answer here:\n",
    "\n",
    "\n",
    "\n",
    "\n"
   ]
  },
  {
   "attachments": {},
   "cell_type": "markdown",
   "metadata": {},
   "source": [
    "<font size = \"5\">\n",
    "\n",
    "(e) Import Python Scripts\n",
    "\n",
    "- import the functions in \n",
    "\n",
    "``` homework_scripts/auxiliaryfunctions.py ```\n",
    "\n",
    "with the alias \"af\"\n",
    "\n",
    "- Create variable with your name.\n",
    "- Enter the variable in \"fn_message\"\n"
   ]
  },
  {
   "cell_type": "code",
   "execution_count": null,
   "metadata": {},
   "outputs": [],
   "source": [
    "# Write your answer here:\n",
    "\n",
    "\n"
   ]
  },
  {
   "attachments": {},
   "cell_type": "markdown",
   "metadata": {},
   "source": [
    "<font size = \"5\">"
   ]
  }
 ],
 "metadata": {
  "kernelspec": {
   "display_name": "base",
   "language": "python",
   "name": "python3"
  },
  "language_info": {
   "codemirror_mode": {
    "name": "ipython",
    "version": 3
   },
   "file_extension": ".py",
   "mimetype": "text/x-python",
   "name": "python",
   "nbconvert_exporter": "python",
   "pygments_lexer": "ipython3",
   "version": "3.9.13"
  },
  "orig_nbformat": 4,
  "vscode": {
   "interpreter": {
    "hash": "45fc1f684f6f416f40889115beff3ddf69879b64cf4bfee48cb72a61e9d15d1a"
   }
  }
 },
 "nbformat": 4,
 "nbformat_minor": 2
}
