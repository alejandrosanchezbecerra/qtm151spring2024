{
 "cells": [
  {
   "attachments": {},
   "cell_type": "markdown",
   "metadata": {},
   "source": [
    "# <span style=\"color:darkblue\"> Lecture 23 - Text Data  </span>\n",
    "\n",
    "<font size = \"5\">\n",
    "\n",
    "In  this lecture we will work with text data"
   ]
  },
  {
   "attachments": {},
   "cell_type": "markdown",
   "metadata": {},
   "source": [
    "<font size = \"5\">\n",
    "\n",
    "Import Libraries"
   ]
  },
  {
   "cell_type": "code",
   "execution_count": 1,
   "metadata": {},
   "outputs": [],
   "source": [
    "import pandas as pd"
   ]
  },
  {
   "cell_type": "markdown",
   "metadata": {},
   "source": [
    "<font size = \"5\">\n",
    "\n",
    "Import Data\n",
    "\n",
    "- Congressional bills in the United States"
   ]
  },
  {
   "cell_type": "code",
   "execution_count": 13,
   "metadata": {},
   "outputs": [
    {
     "data": {
      "text/plain": [
       "Congress        int64\n",
       "bill_number     int64\n",
       "bill_type      object\n",
       "action         object\n",
       "main_action    object\n",
       "category       object\n",
       "member_id       int64\n",
       "dtype: object"
      ]
     },
     "execution_count": 13,
     "metadata": {},
     "output_type": "execute_result"
    }
   ],
   "source": [
    "bills_actions = pd.read_csv(\"data_raw/bills_actions.csv\")\n",
    "bills_actions.dtypes"
   ]
  },
  {
   "cell_type": "markdown",
   "metadata": {},
   "source": [
    "# <span style=\"color:darkblue\"> II. Basic Text Operations </span>"
   ]
  },
  {
   "cell_type": "markdown",
   "metadata": {},
   "source": [
    "<font size = \"5\">\n",
    "\n",
    "Count Frequency"
   ]
  },
  {
   "cell_type": "code",
   "execution_count": 16,
   "metadata": {},
   "outputs": [
    {
     "data": {
      "text/plain": [
       "0         amendment\n",
       "1         amendment\n",
       "2         amendment\n",
       "3       senate bill\n",
       "4       senate bill\n",
       "           ...     \n",
       "3298      amendment\n",
       "3299      amendment\n",
       "3300      amendment\n",
       "3301      amendment\n",
       "3302      amendment\n",
       "Name: category, Length: 3303, dtype: object"
      ]
     },
     "execution_count": 16,
     "metadata": {},
     "output_type": "execute_result"
    }
   ],
   "source": [
    "bills_actions[\"category\"]"
   ]
  },
  {
   "cell_type": "code",
   "execution_count": 122,
   "metadata": {},
   "outputs": [
    {
     "data": {
      "text/plain": [
       "category\n",
       "amendment                       1529\n",
       "house bill                       902\n",
       "senate bill                      514\n",
       "house resolution                 234\n",
       "senate resolution                 60\n",
       "house joint resolution            22\n",
       "house concurrent resolution       20\n",
       "senate concurrent resolution      14\n",
       "senate joint resolution            8\n",
       "Name: count, dtype: int64"
      ]
     },
     "execution_count": 122,
     "metadata": {},
     "output_type": "execute_result"
    }
   ],
   "source": [
    "bills_actions[\"category\"].value_counts()"
   ]
  },
  {
   "cell_type": "markdown",
   "metadata": {},
   "source": [
    "<font size = \"5\">\n",
    "\n",
    "Subset text categories"
   ]
  },
  {
   "cell_type": "code",
   "execution_count": 4,
   "metadata": {},
   "outputs": [
    {
     "data": {
      "text/plain": [
       "category\n",
       "house bill     902\n",
       "senate bill    514\n",
       "Name: count, dtype: int64"
      ]
     },
     "execution_count": 4,
     "metadata": {},
     "output_type": "execute_result"
    }
   ],
   "source": [
    "# For this analysis we are only interested in bills. With \".query()\" ...\n",
    "#     - We select all entries in the column called \"category\" \n",
    "#       which have values contain in \"list_categories\"\n",
    "#     - \"in\" is used to test whether a word belongs to a list\n",
    "#     - @ is the syntax to reference \"global\" variables that\n",
    "#       are defined in the global environment\n",
    "\n",
    "list_categories = [\"house bill\",\"senate bill\"]\n",
    "bills = bills_actions.query('category in @list_categories')\n",
    "\n",
    "# Verify that the code worked:\n",
    "bills[\"category\"].value_counts()\n"
   ]
  },
  {
   "cell_type": "markdown",
   "metadata": {},
   "source": [
    "<font size = \"5\">\n",
    "\n",
    "Data manipulation with sentences"
   ]
  },
  {
   "cell_type": "code",
   "execution_count": 22,
   "metadata": {},
   "outputs": [
    {
     "name": "stdout",
     "output_type": "stream",
     "text": [
      "0.3199152542372881\n"
     ]
    }
   ],
   "source": [
    "# How many bills mention the word Senator?\n",
    "bool_contains = bills[\"action\"].str.contains(\"Senator\")\n",
    "print(bool_contains.mean())"
   ]
  },
  {
   "cell_type": "code",
   "execution_count": 24,
   "metadata": {},
   "outputs": [
    {
     "data": {
      "text/html": [
       "<div>\n",
       "<style scoped>\n",
       "    .dataframe tbody tr th:only-of-type {\n",
       "        vertical-align: middle;\n",
       "    }\n",
       "\n",
       "    .dataframe tbody tr th {\n",
       "        vertical-align: top;\n",
       "    }\n",
       "\n",
       "    .dataframe thead th {\n",
       "        text-align: right;\n",
       "    }\n",
       "</style>\n",
       "<table border=\"1\" class=\"dataframe\">\n",
       "  <thead>\n",
       "    <tr style=\"text-align: right;\">\n",
       "      <th></th>\n",
       "      <th>Congress</th>\n",
       "      <th>bill_number</th>\n",
       "      <th>bill_type</th>\n",
       "      <th>action</th>\n",
       "      <th>main_action</th>\n",
       "      <th>category</th>\n",
       "      <th>member_id</th>\n",
       "    </tr>\n",
       "  </thead>\n",
       "  <tbody>\n",
       "    <tr>\n",
       "      <th>3</th>\n",
       "      <td>116</td>\n",
       "      <td>1199</td>\n",
       "      <td>s</td>\n",
       "      <td>Committee on Health, Education, Labor, and Pen...</td>\n",
       "      <td>senate committee/subcommittee actions</td>\n",
       "      <td>senate bill</td>\n",
       "      <td>1561</td>\n",
       "    </tr>\n",
       "    <tr>\n",
       "      <th>4</th>\n",
       "      <td>116</td>\n",
       "      <td>1208</td>\n",
       "      <td>s</td>\n",
       "      <td>Committee on the Judiciary. Reported by Senato...</td>\n",
       "      <td>senate committee/subcommittee actions</td>\n",
       "      <td>senate bill</td>\n",
       "      <td>1580</td>\n",
       "    </tr>\n",
       "    <tr>\n",
       "      <th>5</th>\n",
       "      <td>116</td>\n",
       "      <td>1231</td>\n",
       "      <td>s</td>\n",
       "      <td>Committee on the Judiciary. Reported by Senato...</td>\n",
       "      <td>senate committee/subcommittee actions</td>\n",
       "      <td>senate bill</td>\n",
       "      <td>1580</td>\n",
       "    </tr>\n",
       "    <tr>\n",
       "      <th>6</th>\n",
       "      <td>116</td>\n",
       "      <td>1228</td>\n",
       "      <td>s</td>\n",
       "      <td>Committee on Commerce, Science, and Transporta...</td>\n",
       "      <td>senate committee/subcommittee actions</td>\n",
       "      <td>senate bill</td>\n",
       "      <td>1002</td>\n",
       "    </tr>\n",
       "    <tr>\n",
       "      <th>7</th>\n",
       "      <td>116</td>\n",
       "      <td>123</td>\n",
       "      <td>s</td>\n",
       "      <td>Committee on Veterans' Affairs. Reported by Se...</td>\n",
       "      <td>senate committee/subcommittee actions</td>\n",
       "      <td>senate bill</td>\n",
       "      <td>1490</td>\n",
       "    </tr>\n",
       "    <tr>\n",
       "      <th>...</th>\n",
       "      <td>...</td>\n",
       "      <td>...</td>\n",
       "      <td>...</td>\n",
       "      <td>...</td>\n",
       "      <td>...</td>\n",
       "      <td>...</td>\n",
       "      <td>...</td>\n",
       "    </tr>\n",
       "    <tr>\n",
       "      <th>2944</th>\n",
       "      <td>116</td>\n",
       "      <td>617</td>\n",
       "      <td>hr</td>\n",
       "      <td>Committee on Energy and Natural Resources. Rep...</td>\n",
       "      <td>senate committee/subcommittee actions</td>\n",
       "      <td>house bill</td>\n",
       "      <td>1581</td>\n",
       "    </tr>\n",
       "    <tr>\n",
       "      <th>3081</th>\n",
       "      <td>116</td>\n",
       "      <td>762</td>\n",
       "      <td>hr</td>\n",
       "      <td>Committee on Energy and Natural Resources. Rep...</td>\n",
       "      <td>senate committee/subcommittee actions</td>\n",
       "      <td>house bill</td>\n",
       "      <td>1581</td>\n",
       "    </tr>\n",
       "    <tr>\n",
       "      <th>3142</th>\n",
       "      <td>116</td>\n",
       "      <td>828</td>\n",
       "      <td>hr</td>\n",
       "      <td>Committee on Homeland Security and Governmenta...</td>\n",
       "      <td>senate committee/subcommittee actions</td>\n",
       "      <td>house bill</td>\n",
       "      <td>1701</td>\n",
       "    </tr>\n",
       "    <tr>\n",
       "      <th>3150</th>\n",
       "      <td>116</td>\n",
       "      <td>829</td>\n",
       "      <td>hr</td>\n",
       "      <td>Committee on Homeland Security and Governmenta...</td>\n",
       "      <td>senate committee/subcommittee actions</td>\n",
       "      <td>house bill</td>\n",
       "      <td>1701</td>\n",
       "    </tr>\n",
       "    <tr>\n",
       "      <th>3195</th>\n",
       "      <td>116</td>\n",
       "      <td>887</td>\n",
       "      <td>hr</td>\n",
       "      <td>Committee on Homeland Security and Governmenta...</td>\n",
       "      <td>senate committee/subcommittee actions</td>\n",
       "      <td>house bill</td>\n",
       "      <td>1701</td>\n",
       "    </tr>\n",
       "  </tbody>\n",
       "</table>\n",
       "<p>453 rows × 7 columns</p>\n",
       "</div>"
      ],
      "text/plain": [
       "      Congress  bill_number bill_type  \\\n",
       "3          116         1199         s   \n",
       "4          116         1208         s   \n",
       "5          116         1231         s   \n",
       "6          116         1228         s   \n",
       "7          116          123         s   \n",
       "...        ...          ...       ...   \n",
       "2944       116          617        hr   \n",
       "3081       116          762        hr   \n",
       "3142       116          828        hr   \n",
       "3150       116          829        hr   \n",
       "3195       116          887        hr   \n",
       "\n",
       "                                                 action  \\\n",
       "3     Committee on Health, Education, Labor, and Pen...   \n",
       "4     Committee on the Judiciary. Reported by Senato...   \n",
       "5     Committee on the Judiciary. Reported by Senato...   \n",
       "6     Committee on Commerce, Science, and Transporta...   \n",
       "7     Committee on Veterans' Affairs. Reported by Se...   \n",
       "...                                                 ...   \n",
       "2944  Committee on Energy and Natural Resources. Rep...   \n",
       "3081  Committee on Energy and Natural Resources. Rep...   \n",
       "3142  Committee on Homeland Security and Governmenta...   \n",
       "3150  Committee on Homeland Security and Governmenta...   \n",
       "3195  Committee on Homeland Security and Governmenta...   \n",
       "\n",
       "                                main_action     category  member_id  \n",
       "3     senate committee/subcommittee actions  senate bill       1561  \n",
       "4     senate committee/subcommittee actions  senate bill       1580  \n",
       "5     senate committee/subcommittee actions  senate bill       1580  \n",
       "6     senate committee/subcommittee actions  senate bill       1002  \n",
       "7     senate committee/subcommittee actions  senate bill       1490  \n",
       "...                                     ...          ...        ...  \n",
       "2944  senate committee/subcommittee actions   house bill       1581  \n",
       "3081  senate committee/subcommittee actions   house bill       1581  \n",
       "3142  senate committee/subcommittee actions   house bill       1701  \n",
       "3150  senate committee/subcommittee actions   house bill       1701  \n",
       "3195  senate committee/subcommittee actions   house bill       1701  \n",
       "\n",
       "[453 rows x 7 columns]"
      ]
     },
     "execution_count": 24,
     "metadata": {},
     "output_type": "execute_result"
    }
   ],
   "source": [
    "bills[bills[\"action\"].str.contains(\"Senator\")]"
   ]
  },
  {
   "cell_type": "code",
   "execution_count": 26,
   "metadata": {},
   "outputs": [],
   "source": [
    "# How to replace the word \"Senator\" with \"Custom Title\"\n",
    "bills[\"action_custom\"] = bills[\"action\"].str.replace(\"Senator\",\"Sen.\")"
   ]
  },
  {
   "cell_type": "markdown",
   "metadata": {},
   "source": [
    "<font size = \"5\">\n",
    "\n",
    "Try it yourself!\n",
    "\n",
    "- Obtain a new dataset called \"resolutions\" <br>\n",
    " which subsets rows contain the \"category\" values:\n",
    "\n",
    " ``` [\"house resolution\",\"senate resolution\"] ```"
   ]
  },
  {
   "cell_type": "code",
   "execution_count": 29,
   "metadata": {},
   "outputs": [],
   "source": [
    "# Write your own code\n",
    "\n",
    "resolution_list = [\"house resolution\",\"senate resolution\"]\n",
    "resolutions = bills_actions.query('category in @resolution_list')"
   ]
  },
  {
   "attachments": {},
   "cell_type": "markdown",
   "metadata": {},
   "source": [
    "# <span style=\"color:darkblue\"> III. Regular Expressions </span>\n",
    "\n",
    "<font size = \"5\">\n",
    "\n",
    "Regular expressions enable advanced searching <br>\n",
    "for string data."
   ]
  },
  {
   "cell_type": "code",
   "execution_count": 31,
   "metadata": {},
   "outputs": [],
   "source": [
    "dataset = pd.read_csv(\"data_raw/bills_actions.csv\")\n",
    "senate_bills = dataset.query('category == \"senate bill\"')\n",
    "amendments = dataset.query('category == \"amendment\"')"
   ]
  },
  {
   "cell_type": "code",
   "execution_count": 36,
   "metadata": {},
   "outputs": [],
   "source": [
    "to_reconsider = dataset[dataset['action'].str.contains('to reconsider')]"
   ]
  },
  {
   "cell_type": "code",
   "execution_count": 33,
   "metadata": {},
   "outputs": [
    {
     "data": {
      "text/html": [
       "<div>\n",
       "<style scoped>\n",
       "    .dataframe tbody tr th:only-of-type {\n",
       "        vertical-align: middle;\n",
       "    }\n",
       "\n",
       "    .dataframe tbody tr th {\n",
       "        vertical-align: top;\n",
       "    }\n",
       "\n",
       "    .dataframe thead th {\n",
       "        text-align: right;\n",
       "    }\n",
       "</style>\n",
       "<table border=\"1\" class=\"dataframe\">\n",
       "  <thead>\n",
       "    <tr style=\"text-align: right;\">\n",
       "      <th></th>\n",
       "      <th>Congress</th>\n",
       "      <th>bill_number</th>\n",
       "      <th>bill_type</th>\n",
       "      <th>action</th>\n",
       "      <th>main_action</th>\n",
       "      <th>category</th>\n",
       "      <th>member_id</th>\n",
       "    </tr>\n",
       "  </thead>\n",
       "  <tbody>\n",
       "    <tr>\n",
       "      <th>0</th>\n",
       "      <td>116</td>\n",
       "      <td>1029</td>\n",
       "      <td>s</td>\n",
       "      <td>S.Amdt.1274 Amendment SA 1274 proposed by Sena...</td>\n",
       "      <td>senate amendment proposed (on the floor)</td>\n",
       "      <td>amendment</td>\n",
       "      <td>858</td>\n",
       "    </tr>\n",
       "    <tr>\n",
       "      <th>1</th>\n",
       "      <td>116</td>\n",
       "      <td>1031</td>\n",
       "      <td>s</td>\n",
       "      <td>S.Amdt.2698 Amendment SA 2698 proposed by Sena...</td>\n",
       "      <td>senate amendment proposed (on the floor)</td>\n",
       "      <td>amendment</td>\n",
       "      <td>675</td>\n",
       "    </tr>\n",
       "    <tr>\n",
       "      <th>2</th>\n",
       "      <td>116</td>\n",
       "      <td>1160</td>\n",
       "      <td>s</td>\n",
       "      <td>S.Amdt.2659 Amendment SA 2659 proposed by Sena...</td>\n",
       "      <td>senate amendment proposed (on the floor)</td>\n",
       "      <td>amendment</td>\n",
       "      <td>858</td>\n",
       "    </tr>\n",
       "    <tr>\n",
       "      <th>8</th>\n",
       "      <td>116</td>\n",
       "      <td>1253</td>\n",
       "      <td>s</td>\n",
       "      <td>S.Amdt.2424 Amendment SA 2424 proposed by Sena...</td>\n",
       "      <td>senate amendment proposed (on the floor)</td>\n",
       "      <td>amendment</td>\n",
       "      <td>297</td>\n",
       "    </tr>\n",
       "    <tr>\n",
       "      <th>11</th>\n",
       "      <td>116</td>\n",
       "      <td>1309</td>\n",
       "      <td>s</td>\n",
       "      <td>S.Amdt.1275 Amendment SA 1275 proposed by Sena...</td>\n",
       "      <td>senate amendment proposed (on the floor)</td>\n",
       "      <td>amendment</td>\n",
       "      <td>858</td>\n",
       "    </tr>\n",
       "    <tr>\n",
       "      <th>...</th>\n",
       "      <td>...</td>\n",
       "      <td>...</td>\n",
       "      <td>...</td>\n",
       "      <td>...</td>\n",
       "      <td>...</td>\n",
       "      <td>...</td>\n",
       "      <td>...</td>\n",
       "    </tr>\n",
       "    <tr>\n",
       "      <th>3298</th>\n",
       "      <td>116</td>\n",
       "      <td>9</td>\n",
       "      <td>hr</td>\n",
       "      <td>H.Amdt.172 Amendment (A004) offered by Ms. Kus...</td>\n",
       "      <td>house amendment offered</td>\n",
       "      <td>amendment</td>\n",
       "      <td>36</td>\n",
       "    </tr>\n",
       "    <tr>\n",
       "      <th>3299</th>\n",
       "      <td>116</td>\n",
       "      <td>9</td>\n",
       "      <td>hr</td>\n",
       "      <td>H.Amdt.171 Amendment (A003) offered by Ms. Hou...</td>\n",
       "      <td>house amendment offered</td>\n",
       "      <td>amendment</td>\n",
       "      <td>186</td>\n",
       "    </tr>\n",
       "    <tr>\n",
       "      <th>3300</th>\n",
       "      <td>116</td>\n",
       "      <td>9</td>\n",
       "      <td>hr</td>\n",
       "      <td>H.Amdt.170 Amendment (A002) offered by Ms. Oma...</td>\n",
       "      <td>house amendment offered</td>\n",
       "      <td>amendment</td>\n",
       "      <td>477</td>\n",
       "    </tr>\n",
       "    <tr>\n",
       "      <th>3301</th>\n",
       "      <td>116</td>\n",
       "      <td>9</td>\n",
       "      <td>hr</td>\n",
       "      <td>POSTPONED PROCEEDINGS - At the conclusion of d...</td>\n",
       "      <td>other house amendment actions</td>\n",
       "      <td>amendment</td>\n",
       "      <td>393</td>\n",
       "    </tr>\n",
       "    <tr>\n",
       "      <th>3302</th>\n",
       "      <td>116</td>\n",
       "      <td>9</td>\n",
       "      <td>hr</td>\n",
       "      <td>H.Amdt.169 Amendment (A001) offered by Mr. Esp...</td>\n",
       "      <td>house amendment offered</td>\n",
       "      <td>amendment</td>\n",
       "      <td>6</td>\n",
       "    </tr>\n",
       "  </tbody>\n",
       "</table>\n",
       "<p>1529 rows × 7 columns</p>\n",
       "</div>"
      ],
      "text/plain": [
       "      Congress  bill_number bill_type  \\\n",
       "0          116         1029         s   \n",
       "1          116         1031         s   \n",
       "2          116         1160         s   \n",
       "8          116         1253         s   \n",
       "11         116         1309         s   \n",
       "...        ...          ...       ...   \n",
       "3298       116            9        hr   \n",
       "3299       116            9        hr   \n",
       "3300       116            9        hr   \n",
       "3301       116            9        hr   \n",
       "3302       116            9        hr   \n",
       "\n",
       "                                                 action  \\\n",
       "0     S.Amdt.1274 Amendment SA 1274 proposed by Sena...   \n",
       "1     S.Amdt.2698 Amendment SA 2698 proposed by Sena...   \n",
       "2     S.Amdt.2659 Amendment SA 2659 proposed by Sena...   \n",
       "8     S.Amdt.2424 Amendment SA 2424 proposed by Sena...   \n",
       "11    S.Amdt.1275 Amendment SA 1275 proposed by Sena...   \n",
       "...                                                 ...   \n",
       "3298  H.Amdt.172 Amendment (A004) offered by Ms. Kus...   \n",
       "3299  H.Amdt.171 Amendment (A003) offered by Ms. Hou...   \n",
       "3300  H.Amdt.170 Amendment (A002) offered by Ms. Oma...   \n",
       "3301  POSTPONED PROCEEDINGS - At the conclusion of d...   \n",
       "3302  H.Amdt.169 Amendment (A001) offered by Mr. Esp...   \n",
       "\n",
       "                                   main_action   category  member_id  \n",
       "0     senate amendment proposed (on the floor)  amendment        858  \n",
       "1     senate amendment proposed (on the floor)  amendment        675  \n",
       "2     senate amendment proposed (on the floor)  amendment        858  \n",
       "8     senate amendment proposed (on the floor)  amendment        297  \n",
       "11    senate amendment proposed (on the floor)  amendment        858  \n",
       "...                                        ...        ...        ...  \n",
       "3298                   house amendment offered  amendment         36  \n",
       "3299                   house amendment offered  amendment        186  \n",
       "3300                   house amendment offered  amendment        477  \n",
       "3301             other house amendment actions  amendment        393  \n",
       "3302                   house amendment offered  amendment          6  \n",
       "\n",
       "[1529 rows x 7 columns]"
      ]
     },
     "metadata": {},
     "output_type": "display_data"
    }
   ],
   "source": [
    "display(amendments)"
   ]
  },
  {
   "attachments": {},
   "cell_type": "markdown",
   "metadata": {},
   "source": [
    "<font size = \"5\">\n",
    "\n",
    "Search word"
   ]
  },
  {
   "cell_type": "code",
   "execution_count": 91,
   "metadata": {},
   "outputs": [
    {
     "data": {
      "text/plain": [
       "0       [Amdt.1274 ]\n",
       "1       [Amdt.2698 ]\n",
       "2       [Amdt.2659 ]\n",
       "8       [Amdt.2424 ]\n",
       "11      [Amdt.1275 ]\n",
       "            ...     \n",
       "3298    [Amdt.172 A]\n",
       "3299    [Amdt.171 A]\n",
       "3300    [Amdt.170 A]\n",
       "3301              []\n",
       "3302    [Amdt.169 A]\n",
       "Name: action, Length: 1529, dtype: object"
      ]
     },
     "execution_count": 91,
     "metadata": {},
     "output_type": "execute_result"
    }
   ],
   "source": [
    "# We use the \".str.findall()\" subfunction\n",
    "# The argument is an expression\n",
    "\n",
    "amendments[\"action\"].str.findall(\"Amdt\\.....\\D\")"
   ]
  },
  {
   "attachments": {},
   "cell_type": "markdown",
   "metadata": {},
   "source": [
    "<font size = \"5\">\n",
    "\n",
    "Wildcards\n",
    "\n",
    "$\\quad$ <img src=\"figures/wildcards_regex1.png\" alt=\"drawing\" width=\"300\"/>"
   ]
  },
  {
   "cell_type": "code",
   "execution_count": 92,
   "metadata": {},
   "outputs": [
    {
     "data": {
      "text/plain": [
       "0       [Amdt.1]\n",
       "1       [Amdt.2]\n",
       "2       [Amdt.2]\n",
       "8       [Amdt.2]\n",
       "11      [Amdt.1]\n",
       "          ...   \n",
       "3298    [Amdt.1]\n",
       "3299    [Amdt.1]\n",
       "3300    [Amdt.1]\n",
       "3301          []\n",
       "3302    [Amdt.1]\n",
       "Name: action, Length: 1529, dtype: object"
      ]
     },
     "metadata": {},
     "output_type": "display_data"
    },
    {
     "data": {
      "text/plain": [
       "0       [.Amdt.]\n",
       "1       [.Amdt.]\n",
       "2       [.Amdt.]\n",
       "8       [.Amdt.]\n",
       "11      [.Amdt.]\n",
       "          ...   \n",
       "3298    [.Amdt.]\n",
       "3299    [.Amdt.]\n",
       "3300    [.Amdt.]\n",
       "3301          []\n",
       "3302    [.Amdt.]\n",
       "Name: action, Length: 1529, dtype: object"
      ]
     },
     "metadata": {},
     "output_type": "display_data"
    },
    {
     "data": {
      "text/plain": [
       "0       [S.Amdt.127]\n",
       "1       [S.Amdt.269]\n",
       "2       [S.Amdt.265]\n",
       "8       [S.Amdt.242]\n",
       "11      [S.Amdt.127]\n",
       "            ...     \n",
       "3298    [H.Amdt.172]\n",
       "3299    [H.Amdt.171]\n",
       "3300    [H.Amdt.170]\n",
       "3301              []\n",
       "3302    [H.Amdt.169]\n",
       "Name: action, Length: 1529, dtype: object"
      ]
     },
     "metadata": {},
     "output_type": "display_data"
    }
   ],
   "source": [
    "# Get digits after string\n",
    "example1 = amendments[\"action\"].str.findall(\"Amdt\\..\")\n",
    "\n",
    "# Get any character before string\n",
    "example2 = amendments[\"action\"].str.findall(\".Amdt\\.\")\n",
    "\n",
    "# Get two characters before string\n",
    "example3 = amendments[\"action\"].str.findall(\"..Amdt\\....\")\n",
    "\n",
    "display(example1)\n",
    "display(example2)\n",
    "display(example3)"
   ]
  },
  {
   "attachments": {},
   "cell_type": "markdown",
   "metadata": {},
   "source": [
    "<font size = \"5\">\n",
    "\n",
    "Wildcards + Quantifiers\n",
    "\n",
    "$\\quad$ <img src=\"figures/wildcards_regex2.png\" alt=\"drawing\" width=\"300\"/>"
   ]
  },
  {
   "cell_type": "code",
   "execution_count": 109,
   "metadata": {},
   "outputs": [
    {
     "data": {
      "text/plain": [
       "0       [S.Amdt.1274]\n",
       "1       [S.Amdt.2698]\n",
       "2       [S.Amdt.2659]\n",
       "8       [S.Amdt.2424]\n",
       "11      [S.Amdt.1275]\n",
       "            ...      \n",
       "3298     [H.Amdt.172]\n",
       "3299     [H.Amdt.171]\n",
       "3300     [H.Amdt.170]\n",
       "3301               []\n",
       "3302     [H.Amdt.169]\n",
       "Name: action, Length: 1529, dtype: object"
      ]
     },
     "execution_count": 109,
     "metadata": {},
     "output_type": "execute_result"
    }
   ],
   "source": [
    "amendments[\"action\"].str.findall(\".*Amdt\\S*\")"
   ]
  },
  {
   "cell_type": "code",
   "execution_count": 100,
   "metadata": {},
   "outputs": [
    {
     "data": {
      "text/plain": [
       "0       [Amdt.1274]\n",
       "1       [Amdt.2698]\n",
       "2       [Amdt.2659]\n",
       "8       [Amdt.2424]\n",
       "11      [Amdt.1275]\n",
       "           ...     \n",
       "3298     [Amdt.172]\n",
       "3299     [Amdt.171]\n",
       "3300     [Amdt.170]\n",
       "3301             []\n",
       "3302     [Amdt.169]\n",
       "Name: action, Length: 1529, dtype: object"
      ]
     },
     "metadata": {},
     "output_type": "display_data"
    },
    {
     "data": {
      "text/plain": [
       "0       [S.Amdt.]\n",
       "1       [S.Amdt.]\n",
       "2       [S.Amdt.]\n",
       "8       [S.Amdt.]\n",
       "11      [S.Amdt.]\n",
       "          ...    \n",
       "3298    [H.Amdt.]\n",
       "3299    [H.Amdt.]\n",
       "3300    [H.Amdt.]\n",
       "3301           []\n",
       "3302    [H.Amdt.]\n",
       "Name: action, Length: 1529, dtype: object"
      ]
     },
     "metadata": {},
     "output_type": "display_data"
    }
   ],
   "source": [
    "# Get all consecutive digits after string\n",
    "example4 = amendments[\"action\"].str.findall(\"Amdt\\.\\d*\")\n",
    "\n",
    "# Get all consecutive characters before string\n",
    "example5 = amendments[\"action\"].str.findall(\".*Amdt\\.\")\n",
    "\n",
    "display(example4)\n",
    "display(example5)\n"
   ]
  },
  {
   "attachments": {},
   "cell_type": "markdown",
   "metadata": {},
   "source": [
    "<font size = \"5\">\n",
    "\n",
    "Try it yourself\n",
    "\n",
    "- Practice using the ```senate_bills``` dataset\n",
    "- Use ```.str.findall()``` to find the word \"Senator\"\n",
    "- Use the regular expression ```\"Senator \\S``` to extract <br>\n",
    " the the first letter of senator\n",
    "- Use ```*``` to extract senator names"
   ]
  },
  {
   "cell_type": "code",
   "execution_count": 120,
   "metadata": {},
   "outputs": [
    {
     "data": {
      "text/plain": [
       "3      [Senator Alexander]\n",
       "4         [Senator Graham]\n",
       "5         [Senator Graham]\n",
       "6         [Senator Wicker]\n",
       "7          [Senator Moran]\n",
       "              ...         \n",
       "795      [Senator Johnson]\n",
       "796                     []\n",
       "797       [Senator Hoeven]\n",
       "798                     []\n",
       "799       [Senator Graham]\n",
       "Name: action, Length: 514, dtype: object"
      ]
     },
     "execution_count": 120,
     "metadata": {},
     "output_type": "execute_result"
    }
   ],
   "source": [
    "# Write your own code\n",
    "senate_bills['action'].str.findall('Senator \\S*')"
   ]
  }
 ],
 "metadata": {
  "kernelspec": {
   "display_name": "base",
   "language": "python",
   "name": "python3"
  },
  "language_info": {
   "codemirror_mode": {
    "name": "ipython",
    "version": 3
   },
   "file_extension": ".py",
   "mimetype": "text/x-python",
   "name": "python",
   "nbconvert_exporter": "python",
   "pygments_lexer": "ipython3",
   "version": "3.11.4"
  },
  "orig_nbformat": 4
 },
 "nbformat": 4,
 "nbformat_minor": 2
}
