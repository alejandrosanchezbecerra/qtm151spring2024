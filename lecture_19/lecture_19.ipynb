{
 "cells": [
  {
   "attachments": {},
   "cell_type": "markdown",
   "metadata": {},
   "source": [
    "# <span style=\"color:darkblue\"> Lecture 19 - Connecting to SQL via Python </span>\n",
    "\n",
    "<font size = \"5\">\n",
    "\n",
    "In the past lecture:\n",
    "\n",
    "- We worked directly in SQL\n",
    "- Carried out basic dataset operations\n",
    "\n",
    "In  this lecture we will run SQL from Python\n",
    "\n",
    "- Combine the best of both!\n",
    "- Learn about escape characters!"
   ]
  },
  {
   "cell_type": "markdown",
   "metadata": {},
   "source": [
    "# <span style=\"color:darkblue\"> I. Import Libraries and Data </span>\n"
   ]
  },
  {
   "attachments": {},
   "cell_type": "markdown",
   "metadata": {},
   "source": [
    "<font size = \"5\">\n",
    "\n",
    "Import libraries"
   ]
  },
  {
   "cell_type": "code",
   "execution_count": 1,
   "metadata": {},
   "outputs": [],
   "source": [
    "# psycogpg2 helps us process SQL commands to send to the server\n",
    "# sqlalchemy facilitates establishing a connection with the server\n",
    "\n",
    "import pandas as pd\n",
    "from sqlalchemy import create_engine\n",
    "from   sqlalchemy.engine import URL\n",
    "from   sqlalchemy import text"
   ]
  },
  {
   "attachments": {},
   "cell_type": "markdown",
   "metadata": {},
   "source": [
    "<font size = \"5\">\n",
    "\n",
    "Connect to SQL server\n",
    "\n",
    "- In the default instructions we set <br>\n",
    "the password to \"12345\" in windows and <br>\n",
    "no password for Mac\n",
    "- ADJUST code accordingly! "
   ]
  },
  {
   "cell_type": "code",
   "execution_count": 2,
   "metadata": {},
   "outputs": [],
   "source": [
    "# Use the connection details to your server\n",
    "# These are the default settings.\n",
    "# \"postgresql\" is a fixed argument\n",
    "# If you have a different host,database, username, or password,\n",
    "# change the corresponding connection details\n",
    "\n",
    "\n",
    "url_server = URL.create(\n",
    "    \"postgresql\",\n",
    "    host = 'localhost',\n",
    "    database = 'postgres',\n",
    "    username = 'postgres',\n",
    "    port = 5432,\n",
    "    password  = \"12345\")\n",
    "\n",
    "connection = create_engine(url_server)\n"
   ]
  },
  {
   "cell_type": "markdown",
   "metadata": {},
   "source": [
    "# <span style=\"color:darkblue\"> II. Entity Relationship Diagrams </span>\n",
    "\n",
    "<font size = \"5\">\n",
    "\n",
    "United States Congress dataset\n",
    "\n",
    "- Bills and actions\n",
    "- US congress members\n",
    "\n"
   ]
  },
  {
   "cell_type": "markdown",
   "metadata": {},
   "source": [
    "<font size = \"5\">\n",
    "\n",
    "Read datasets into Python"
   ]
  },
  {
   "cell_type": "code",
   "execution_count": 3,
   "metadata": {},
   "outputs": [],
   "source": [
    "bills_actions        = pd.read_csv(\"data_raw/bills_actions.csv\")\n",
    "us_congress_members = pd.read_csv(\"data_raw/us_congress_members.csv\")"
   ]
  },
  {
   "cell_type": "markdown",
   "metadata": {},
   "source": [
    "<font size = \"5\">\n",
    "\n",
    "Upload to SQL\n"
   ]
  },
  {
   "cell_type": "code",
   "execution_count": 4,
   "metadata": {},
   "outputs": [
    {
     "data": {
      "text/plain": [
       "811"
      ]
     },
     "execution_count": 4,
     "metadata": {},
     "output_type": "execute_result"
    }
   ],
   "source": [
    "bills_actions.to_sql('bills_actions',\n",
    "               con = connection,\n",
    "               if_exists='replace',\n",
    "               index=False)\n",
    "\n",
    "# Import \"races\"\n",
    "us_congress_members.to_sql('us_congress_members', \n",
    "             con = connection, \n",
    "             if_exists='replace',\n",
    "             index=False)"
   ]
  },
  {
   "cell_type": "markdown",
   "metadata": {},
   "source": [
    "<font size = \"5\">\n",
    "\n",
    "Download from SQL Server"
   ]
  },
  {
   "cell_type": "code",
   "execution_count": 5,
   "metadata": {},
   "outputs": [],
   "source": [
    "# Recall that \"*\" indicates that we should select all columns\n",
    "\n",
    "data  = pd.read_sql(text('SELECT * \\\n",
    "                          FROM bills_actions;'), connection)\n",
    "\n",
    "#display(data)"
   ]
  },
  {
   "cell_type": "markdown",
   "metadata": {},
   "source": [
    "<font size = \"5\">\n",
    "\n",
    "Try it yourself\n",
    "\n",
    "Download and display the \"us_congress_members\" dataset from SQL"
   ]
  },
  {
   "cell_type": "code",
   "execution_count": 7,
   "metadata": {},
   "outputs": [
    {
     "data": {
      "text/html": [
       "<div>\n",
       "<style scoped>\n",
       "    .dataframe tbody tr th:only-of-type {\n",
       "        vertical-align: middle;\n",
       "    }\n",
       "\n",
       "    .dataframe tbody tr th {\n",
       "        vertical-align: top;\n",
       "    }\n",
       "\n",
       "    .dataframe thead th {\n",
       "        text-align: right;\n",
       "    }\n",
       "</style>\n",
       "<table border=\"1\" class=\"dataframe\">\n",
       "  <thead>\n",
       "    <tr style=\"text-align: right;\">\n",
       "      <th></th>\n",
       "      <th>member_id</th>\n",
       "      <th>full_name</th>\n",
       "      <th>last_name</th>\n",
       "      <th>member_title</th>\n",
       "      <th>state</th>\n",
       "      <th>party_name</th>\n",
       "      <th>chamber</th>\n",
       "    </tr>\n",
       "  </thead>\n",
       "  <tbody>\n",
       "    <tr>\n",
       "      <th>0</th>\n",
       "      <td>0</td>\n",
       "      <td>A. Donald McEachin</td>\n",
       "      <td>McEachin</td>\n",
       "      <td>Representative</td>\n",
       "      <td>Virginia</td>\n",
       "      <td>Democratic</td>\n",
       "      <td>House</td>\n",
       "    </tr>\n",
       "    <tr>\n",
       "      <th>1</th>\n",
       "      <td>1</td>\n",
       "      <td>Aaron Schock</td>\n",
       "      <td>Schock</td>\n",
       "      <td>Representative</td>\n",
       "      <td>Illinois</td>\n",
       "      <td>Republican</td>\n",
       "      <td>House</td>\n",
       "    </tr>\n",
       "    <tr>\n",
       "      <th>2</th>\n",
       "      <td>2</td>\n",
       "      <td>Abby Finkenauer</td>\n",
       "      <td>Finkenauer</td>\n",
       "      <td>Representative</td>\n",
       "      <td>Iowa</td>\n",
       "      <td>Democratic</td>\n",
       "      <td>House</td>\n",
       "    </tr>\n",
       "    <tr>\n",
       "      <th>3</th>\n",
       "      <td>3</td>\n",
       "      <td>Abigail Davis Spanberger</td>\n",
       "      <td>Spanberger</td>\n",
       "      <td>Representative</td>\n",
       "      <td>Virginia</td>\n",
       "      <td>Democratic</td>\n",
       "      <td>House</td>\n",
       "    </tr>\n",
       "    <tr>\n",
       "      <th>4</th>\n",
       "      <td>4</td>\n",
       "      <td>Adam H. Putnam</td>\n",
       "      <td>Putnam</td>\n",
       "      <td>Representative</td>\n",
       "      <td>Florida</td>\n",
       "      <td>Republican</td>\n",
       "      <td>House</td>\n",
       "    </tr>\n",
       "    <tr>\n",
       "      <th>...</th>\n",
       "      <td>...</td>\n",
       "      <td>...</td>\n",
       "      <td>...</td>\n",
       "      <td>...</td>\n",
       "      <td>...</td>\n",
       "      <td>...</td>\n",
       "      <td>...</td>\n",
       "    </tr>\n",
       "    <tr>\n",
       "      <th>1806</th>\n",
       "      <td>1806</td>\n",
       "      <td>Wm. Lacy Clay</td>\n",
       "      <td>Clay</td>\n",
       "      <td>Representative</td>\n",
       "      <td>Missouri</td>\n",
       "      <td>Democratic</td>\n",
       "      <td>House</td>\n",
       "    </tr>\n",
       "    <tr>\n",
       "      <th>1807</th>\n",
       "      <td>1807</td>\n",
       "      <td>Wyche, Jr. Fowler</td>\n",
       "      <td>Fowler</td>\n",
       "      <td>Senator</td>\n",
       "      <td>Georgia</td>\n",
       "      <td>Democratic</td>\n",
       "      <td>House</td>\n",
       "    </tr>\n",
       "    <tr>\n",
       "      <th>1808</th>\n",
       "      <td>1808</td>\n",
       "      <td>Wyche, Jr. Fowler</td>\n",
       "      <td>Fowler</td>\n",
       "      <td>Senator</td>\n",
       "      <td>Georgia</td>\n",
       "      <td>Democratic</td>\n",
       "      <td>Senate</td>\n",
       "    </tr>\n",
       "    <tr>\n",
       "      <th>1809</th>\n",
       "      <td>1809</td>\n",
       "      <td>Yvette D. Clarke</td>\n",
       "      <td>Clarke</td>\n",
       "      <td>Representative</td>\n",
       "      <td>New York</td>\n",
       "      <td>Democratic</td>\n",
       "      <td>House</td>\n",
       "    </tr>\n",
       "    <tr>\n",
       "      <th>1810</th>\n",
       "      <td>1810</td>\n",
       "      <td>Zell Miller</td>\n",
       "      <td>Miller</td>\n",
       "      <td>Senator</td>\n",
       "      <td>Georgia</td>\n",
       "      <td>Democratic</td>\n",
       "      <td>Senate</td>\n",
       "    </tr>\n",
       "  </tbody>\n",
       "</table>\n",
       "<p>1811 rows × 7 columns</p>\n",
       "</div>"
      ],
      "text/plain": [
       "      member_id                 full_name   last_name    member_title  \\\n",
       "0             0        A. Donald McEachin    McEachin  Representative   \n",
       "1             1              Aaron Schock      Schock  Representative   \n",
       "2             2           Abby Finkenauer  Finkenauer  Representative   \n",
       "3             3  Abigail Davis Spanberger  Spanberger  Representative   \n",
       "4             4            Adam H. Putnam      Putnam  Representative   \n",
       "...         ...                       ...         ...             ...   \n",
       "1806       1806             Wm. Lacy Clay        Clay  Representative   \n",
       "1807       1807         Wyche, Jr. Fowler      Fowler         Senator   \n",
       "1808       1808         Wyche, Jr. Fowler      Fowler         Senator   \n",
       "1809       1809          Yvette D. Clarke      Clarke  Representative   \n",
       "1810       1810               Zell Miller      Miller         Senator   \n",
       "\n",
       "         state  party_name chamber  \n",
       "0     Virginia  Democratic   House  \n",
       "1     Illinois  Republican   House  \n",
       "2         Iowa  Democratic   House  \n",
       "3     Virginia  Democratic   House  \n",
       "4      Florida  Republican   House  \n",
       "...        ...         ...     ...  \n",
       "1806  Missouri  Democratic   House  \n",
       "1807   Georgia  Democratic   House  \n",
       "1808   Georgia  Democratic  Senate  \n",
       "1809  New York  Democratic   House  \n",
       "1810   Georgia  Democratic  Senate  \n",
       "\n",
       "[1811 rows x 7 columns]"
      ]
     },
     "metadata": {},
     "output_type": "display_data"
    }
   ],
   "source": [
    "# Write your own code\n",
    "\n",
    "data_congress  = pd.read_sql(text('SELECT * \\\n",
    "                          FROM us_congress_members;'), connection)\n",
    "\n",
    "display(data_congress)\n"
   ]
  },
  {
   "cell_type": "markdown",
   "metadata": {},
   "source": [
    "# <span style=\"color:darkblue\"> III. Merge Dataset </span>\n",
    "\n",
    "<font size = \"5\">\n",
    "\n",
    "The following is an example of an entity relationship diagram (ERD)\n",
    "\n"
   ]
  },
  {
   "cell_type": "markdown",
   "metadata": {},
   "source": [
    "<font size = \"5\">\n",
    "\n",
    "<img src=\"figures/rdb_us_congress.png\" alt=\"drawing\" width=\"650\"/>\n",
    "\n",
    "- Here \"member_id\" is the PRIMARY KEY of the first dataset\n",
    "- We can check that with SQL commands"
   ]
  },
  {
   "cell_type": "code",
   "execution_count": 7,
   "metadata": {},
   "outputs": [
    {
     "data": {
      "text/html": [
       "<div>\n",
       "<style scoped>\n",
       "    .dataframe tbody tr th:only-of-type {\n",
       "        vertical-align: middle;\n",
       "    }\n",
       "\n",
       "    .dataframe tbody tr th {\n",
       "        vertical-align: top;\n",
       "    }\n",
       "\n",
       "    .dataframe thead th {\n",
       "        text-align: right;\n",
       "    }\n",
       "</style>\n",
       "<table border=\"1\" class=\"dataframe\">\n",
       "  <thead>\n",
       "    <tr style=\"text-align: right;\">\n",
       "      <th></th>\n",
       "      <th>num_distinct</th>\n",
       "      <th>num_members</th>\n",
       "    </tr>\n",
       "  </thead>\n",
       "  <tbody>\n",
       "    <tr>\n",
       "      <th>0</th>\n",
       "      <td>1811</td>\n",
       "      <td>1811</td>\n",
       "    </tr>\n",
       "  </tbody>\n",
       "</table>\n",
       "</div>"
      ],
      "text/plain": [
       "   num_distinct  num_members\n",
       "0          1811         1811"
      ]
     },
     "execution_count": 7,
     "metadata": {},
     "output_type": "execute_result"
    }
   ],
   "source": [
    "summary = pd.read_sql(text(\"SELECT COUNT(DISTINCT member_id) AS num_distinct, \\\n",
    "                           COUNT(*) AS num_members   \\\n",
    "                           FROM us_congress_members\"),\n",
    "                      connection)\n",
    "\n",
    "summary"
   ]
  },
  {
   "cell_type": "markdown",
   "metadata": {},
   "source": [
    "<font size = \"5\">\n",
    "\n",
    "Merge two datasets\n",
    "\n",
    "- Similar to python\n",
    "- FROM is followed by the name of the primary dataset\n",
    "- LEFT is followed by the name of the secondary dataset\n",
    "- ON is the id variable used for merging"
   ]
  },
  {
   "cell_type": "code",
   "execution_count": 8,
   "metadata": {},
   "outputs": [],
   "source": [
    "# Write your own code\n",
    "\n",
    "example = pd.read_sql(text(\"SELECT * \\\n",
    "                            FROM bills_actions \\\n",
    "                            LEFT JOIN us_congress_members \\\n",
    "                            ON bills_actions.member_id = us_congress_members.member_id ;\"),\n",
    "                      connection)\n",
    "\n",
    "# example\n"
   ]
  },
  {
   "cell_type": "markdown",
   "metadata": {},
   "source": [
    "# <span style=\"color:darkblue\"> IV. (Optional) Additional Resources </span>\n",
    "\n",
    "\n",
    "<font size = \"5\">\n",
    "\n",
    "SQL in 100 seconds:\n",
    "\n",
    "https://www.youtube.com/watch?v=zsjvFFKOm3c\n",
    "\n",
    "Overview of SQL:\n",
    "\n",
    "https://www.youtube.com/watch?v=27axs9dO7AE\n",
    "\n",
    "Introduction to databases:\n",
    "\n",
    "https://www.youtube.com/watch?v=wR0jg0eQsZA\n",
    "\n",
    "Introduction to Entity Relationship Diagrams\n",
    "\n",
    "https://www.youtube.com/watch?v=wR0jg0eQsZA\n",
    "\n",
    "\n"
   ]
  }
 ],
 "metadata": {
  "kernelspec": {
   "display_name": "base",
   "language": "python",
   "name": "python3"
  },
  "language_info": {
   "codemirror_mode": {
    "name": "ipython",
    "version": 3
   },
   "file_extension": ".py",
   "mimetype": "text/x-python",
   "name": "python",
   "nbconvert_exporter": "python",
   "pygments_lexer": "ipython3",
   "version": "3.11.5"
  },
  "orig_nbformat": 4
 },
 "nbformat": 4,
 "nbformat_minor": 2
}
