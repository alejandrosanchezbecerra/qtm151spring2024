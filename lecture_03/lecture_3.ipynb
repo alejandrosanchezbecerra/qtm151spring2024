{
 "cells": [
  {
   "attachments": {},
   "cell_type": "markdown",
   "metadata": {},
   "source": [
    "# <span style=\"color:darkblue\"> Lecture 3: Mathematical Operations and Random Numbers </span>"
   ]
  },
  {
   "attachments": {},
   "cell_type": "markdown",
   "metadata": {},
   "source": [
    "<font size=\"5\"> \n",
    "\n",
    "In the previous class we:\n",
    "- Introduced lists and variable types\n",
    "- Talked about how to extract elements from a list"
   ]
  },
  {
   "attachments": {},
   "cell_type": "markdown",
   "metadata": {},
   "source": [
    "<font size=\"5\"> \n",
    "\n",
    "In this class we will:\n",
    "\n",
    "- Introduce a library for general mathematical operations\n",
    "- Generate random numbers\n",
    "- (Optional) Matrix operations"
   ]
  },
  {
   "attachments": {},
   "cell_type": "markdown",
   "metadata": {},
   "source": [
    "## <span style=\"color:darkblue\"> I. Import Libraries </span>"
   ]
  },
  {
   "cell_type": "code",
<<<<<<< HEAD
   "execution_count": 2,
=======
   "execution_count": 1,
>>>>>>> e27c0eca97472415d050b2283cc07e60dbe3d0af
   "metadata": {},
   "outputs": [],
   "source": [
    "# the \"numPy\" library is used for mathematical operations\n",
    "# the \"matplotlib\" library is for generating graphs\n",
    "\n",
    "import numpy as np\n",
    "import matplotlib.pyplot as plt\n"
   ]
  },
  {
   "attachments": {},
   "cell_type": "markdown",
   "metadata": {},
   "source": [
    "##  <span style=\"color:darkblue\"> II. Numbers and Functions </span>"
   ]
  },
  {
   "attachments": {},
   "cell_type": "markdown",
   "metadata": {},
   "source": [
    "<font size = \"5\" >\n",
    "Examples of numPy numbers"
   ]
  },
  {
   "cell_type": "code",
<<<<<<< HEAD
   "execution_count": 3,
=======
   "execution_count": 2,
>>>>>>> e27c0eca97472415d050b2283cc07e60dbe3d0af
   "metadata": {},
   "outputs": [
    {
     "data": {
      "text/plain": [
       "3.141592653589793"
      ]
     },
<<<<<<< HEAD
     "execution_count": 3,
=======
     "execution_count": 2,
>>>>>>> e27c0eca97472415d050b2283cc07e60dbe3d0af
     "metadata": {},
     "output_type": "execute_result"
    }
   ],
   "source": [
    "# Computes \"pi\" (3.14...)\n",
    "\n",
    "np.pi"
   ]
  },
  {
   "attachments": {},
   "cell_type": "markdown",
   "metadata": {},
   "source": [
    "<font size = \"5\" >\n",
    "\n",
    "Examples of numPy functions\n",
    "\n",
    "$ ln(x), e^x, sin(x), cos(x), \\sqrt{x}$"
   ]
  },
  {
   "cell_type": "code",
<<<<<<< HEAD
   "execution_count": 4,
=======
   "execution_count": 3,
>>>>>>> e27c0eca97472415d050b2283cc07e60dbe3d0af
   "metadata": {},
   "outputs": [
    {
     "name": "stdout",
     "output_type": "stream",
     "text": [
      "0.0\n",
      "2.718281828459045\n",
      "0.8414709848078965\n",
      "0.5403023058681398\n",
      "1.0\n"
     ]
    }
   ],
   "source": [
    "# log(x) computes the logarithm with base \"e\" (Euler constant)\n",
    "# exp(x) compute the Euler constant raised to the power of \"x\"\n",
    "# sing(x) computes the sine of x\n",
    "# cos(x) computes the cosine of x\n",
    "# In this example, we're substituting x = 1\n",
    "\n",
    "print(np.log(1))\n",
    "print(np.exp(1))\n",
    "print(np.sin(1))\n",
    "print(np.cos(1))\n",
    "print(np.sqrt(1))"
   ]
  },
  {
   "cell_type": "markdown",
   "metadata": {},
   "source": [
    "<font size = \"5\">\n",
    "\n",
<<<<<<< HEAD
    "Raising to the power of a number \n",
=======
    "Raising to the power of a number\n",
>>>>>>> e27c0eca97472415d050b2283cc07e60dbe3d0af
    "\n",
    "$ x^5 $"
   ]
  },
  {
   "cell_type": "code",
<<<<<<< HEAD
   "execution_count": null,
   "metadata": {},
   "outputs": [],
   "source": [
    " x = 10 \n",
    " x ** 5 \n",
    "\n",
    " #Not x^5"
=======
   "execution_count": 6,
   "metadata": {},
   "outputs": [
    {
     "data": {
      "text/plain": [
       "100000"
      ]
     },
     "execution_count": 6,
     "metadata": {},
     "output_type": "execute_result"
    }
   ],
   "source": [
    "x = 10\n",
    "x ** 5\n",
    "\n",
    "# Not x^5"
>>>>>>> e27c0eca97472415d050b2283cc07e60dbe3d0af
   ]
  },
  {
   "attachments": {},
   "cell_type": "markdown",
   "metadata": {},
   "source": [
    "<font size = \"5\">\n",
    "\n",
    "Try it yourself!\n",
    "\n",
    "- Create a new variable, $x = 5$\n",
    "- Compute $\\pi x^2$\n",
    "- Compute $ \\frac{1}{\\sqrt{2\\pi}}e^{-x^2} $"
   ]
  },
  {
   "cell_type": "code",
<<<<<<< HEAD
   "execution_count": 19,
=======
   "execution_count": 9,
>>>>>>> e27c0eca97472415d050b2283cc07e60dbe3d0af
   "metadata": {},
   "outputs": [
    {
     "name": "stdout",
     "output_type": "stream",
     "text": [
      "78.53981633974483\n",
      "5.540487995575833e-12\n"
     ]
    }
   ],
   "source": [
    "# Write your own code\n",
    "\n",
    "x = 5\n",
<<<<<<< HEAD
    "print((np.pi)*(x**2))\n",
    "print((1/(np.sqrt(2*np.pi)))*np.exp(-x**2))\n"
=======
    "print( np.pi * (x**2))\n",
    "\n",
    "print( (1/np.sqrt(2*np.pi))* np.exp(-x**2) )\n",
    "\n"
>>>>>>> e27c0eca97472415d050b2283cc07e60dbe3d0af
   ]
  },
  {
   "attachments": {},
   "cell_type": "markdown",
   "metadata": {},
   "source": [
    "##  <span style=\"color:darkblue\"> III. Vector Arrays </span>"
   ]
  },
  {
   "attachments": {},
   "cell_type": "markdown",
   "metadata": {},
   "source": [
    "<font size = \"5\">\n",
    "Create an array from a list\n",
    "\n",
    "$ \\text{ }$\n",
    "$ a = \\begin{pmatrix} 1 \\\\ 2 \\\\ 3 \\end{pmatrix}\n",
    "\\qquad b = \\begin{pmatrix} 0 \\\\ 1 \\\\ 0\\end{pmatrix}\n",
    "\\qquad c = \\begin{pmatrix} 10 \\\\ 100 \\\\ 1000 \\\\ 2000 \\\\ 5000 \\end{pmatrix} \n",
    "\\qquad d = \\begin{pmatrix} 4 \\\\ 2 \\end{pmatrix} $"
   ]
  },
  {
   "cell_type": "code",
<<<<<<< HEAD
   "execution_count": 20,
=======
   "execution_count": 11,
>>>>>>> e27c0eca97472415d050b2283cc07e60dbe3d0af
   "metadata": {},
   "outputs": [],
   "source": [
    "# You create an array by converting a list [1,2,3] to a numeric object\n",
    "# \"array\" is a subfunction of the library numPy.\n",
    "\n",
    "vec_a  = np.array([1,2,3])\n",
    "vec_b  = np.array([0,1,0])\n",
    "vec_c  = np.array([10,100,1000,2000,5000 ])\n"
   ]
  },
  {
   "attachments": {},
   "cell_type": "markdown",
   "metadata": {},
   "source": [
    "<font size = \"5\">\n",
    "\n",
    "Accessing an element of an array"
   ]
  },
  {
   "cell_type": "code",
<<<<<<< HEAD
   "execution_count": 21,
=======
   "execution_count": 13,
>>>>>>> e27c0eca97472415d050b2283cc07e60dbe3d0af
   "metadata": {},
   "outputs": [
    {
     "name": "stdout",
     "output_type": "stream",
     "text": [
      "1\n",
      "3\n"
     ]
    }
   ],
   "source": [
    "# Arrays, like lists, start their numbering at zero.\n",
    "# You also access them with square brackets\n",
    "\n",
    "print(vec_a[0])\n",
    "print(vec_a[2])\n"
   ]
  },
  {
   "attachments": {},
   "cell_type": "markdown",
   "metadata": {},
   "source": [
    "<font size = \"5\">\n",
    "Operations with a single array and a scalar"
   ]
  },
  {
   "attachments": {},
   "cell_type": "markdown",
   "metadata": {},
   "source": [
    "<font size = \"5\">\n",
    "\n",
    "$ a + 2 = \\begin{pmatrix} a_1 + 2 \\\\ a_2 + 2 \\\\ a_3 + 2 \\end{pmatrix}$"
   ]
  },
  {
   "cell_type": "code",
<<<<<<< HEAD
   "execution_count": 22,
=======
   "execution_count": 14,
>>>>>>> e27c0eca97472415d050b2283cc07e60dbe3d0af
   "metadata": {},
   "outputs": [
    {
     "name": "stdout",
     "output_type": "stream",
     "text": [
      "[2 4 6]\n",
      "[0.5 1.  1.5]\n",
      "[3 4 5]\n",
      "[1 4 9]\n"
     ]
    }
   ],
   "source": [
    "# A scalar refers to either an int or float\n",
    "# We can do many common operations with \n",
    "\n",
    "print(vec_a * 2)\n",
    "print(vec_a / 2)\n",
    "print(vec_a + 2)\n",
    "print(vec_a ** 2)"
   ]
  },
  {
   "attachments": {},
   "cell_type": "markdown",
   "metadata": {},
   "source": [
    "<font size = \"5\">\n",
    "Element-by-element addition between two arrays of the same size\n",
    "\n",
    "$\\text{ }$\n",
    "\n",
    "$ a + b = \\begin{pmatrix} a_1 \\\\ a_2 \\\\ a_3 \\end{pmatrix} +\n",
    "          \\begin{pmatrix} b_1 \\\\ b_2 \\\\ b_3 \\end{pmatrix} =\n",
    "          \\begin{pmatrix} a_1 + b_1 \\\\ a_2 + b_2 \\\\ a_3 + b_3 \\end{pmatrix}$"
   ]
  },
  {
   "cell_type": "code",
<<<<<<< HEAD
   "execution_count": 23,
=======
   "execution_count": 15,
>>>>>>> e27c0eca97472415d050b2283cc07e60dbe3d0af
   "metadata": {},
   "outputs": [
    {
     "name": "stdout",
     "output_type": "stream",
     "text": [
      "[1 2 3]\n",
      "[0 1 0]\n"
     ]
    }
   ],
   "source": [
    "print(vec_a)\n",
    "print(vec_b)"
   ]
  },
  {
   "cell_type": "code",
<<<<<<< HEAD
   "execution_count": 24,
=======
   "execution_count": 16,
>>>>>>> e27c0eca97472415d050b2283cc07e60dbe3d0af
   "metadata": {},
   "outputs": [
    {
     "name": "stdout",
     "output_type": "stream",
     "text": [
      "[1 3 3]\n"
     ]
    }
   ],
   "source": [
    "# When you add two arrays of the same size,\n",
    "# Python adds the individual elements in each position\n",
    "\n",
    "print(vec_a + vec_b)\n"
   ]
  },
  {
   "attachments": {},
   "cell_type": "markdown",
   "metadata": {},
   "source": [
    "<font size =\"5\">\n",
    "\n",
    "The default multiplication option is element-by element:\n",
    "\n",
    "$ a * b = \\begin{pmatrix} a_1 * b_1 \\\\ a_2 * b_2 \\\\ a_3 * b_3 \\end{pmatrix}$"
   ]
  },
  {
   "cell_type": "code",
<<<<<<< HEAD
   "execution_count": 27,
=======
   "execution_count": 17,
>>>>>>> e27c0eca97472415d050b2283cc07e60dbe3d0af
   "metadata": {},
   "outputs": [
    {
     "name": "stdout",
     "output_type": "stream",
     "text": [
      "[0 2 0]\n",
      "[1 1 3]\n",
      "[inf  2. inf]\n"
     ]
    },
    {
     "name": "stderr",
     "output_type": "stream",
     "text": [
<<<<<<< HEAD
      "C:\\Users\\RMRAVEE\\AppData\\Local\\Temp\\ipykernel_23452\\3839639845.py:6: RuntimeWarning: divide by zero encountered in divide\n",
=======
      "/var/folders/1b/jzb9ndz97b5260fzr9d8kzyh5f7xd6/T/ipykernel_29828/3839639845.py:6: RuntimeWarning: divide by zero encountered in true_divide\n",
>>>>>>> e27c0eca97472415d050b2283cc07e60dbe3d0af
      "  print(vec_a / vec_b)\n"
     ]
    }
   ],
   "source": [
    "# We can do other similar element-by-element operations\n",
    "# such as multiplication, subtraction, and division.\n",
    "\n",
    "print(vec_a * vec_b)\n",
    "print(vec_a - vec_b)\n",
    "print(vec_a / vec_b)\n"
   ]
  },
  {
   "attachments": {},
   "cell_type": "markdown",
   "metadata": {},
   "source": [
    "<font size = \"5\">\n",
    "Summary statistics of an array"
   ]
  },
  {
   "cell_type": "code",
<<<<<<< HEAD
   "execution_count": 26,
=======
   "execution_count": 18,
>>>>>>> e27c0eca97472415d050b2283cc07e60dbe3d0af
   "metadata": {},
   "outputs": [
    {
     "name": "stdout",
     "output_type": "stream",
     "text": [
      "2.0\n",
      "0.816496580927726\n",
      "1\n",
      "2.0\n",
      "3\n"
     ]
    }
   ],
   "source": [
    "# The function np.mean() computes the mean of an array\n",
    "# We can do similar operations for the standard deviation (std),\n",
    "# the minimum (min), the median (median), and the maximum (max).\n",
    "\n",
    "print(np.mean(vec_a))\n",
    "print(np.std(vec_a))\n",
    "print(np.min(vec_a))\n",
    "print(np.median(vec_a))\n",
    "print(np.max(vec_a))"
   ]
  },
  {
   "attachments": {},
   "cell_type": "markdown",
   "metadata": {},
   "source": [
    "<font size = \"5\">\n",
    "\n",
    "Try it yourself! Compute the mean of\n",
    "\n",
    "\n",
    "$ e = \\begin{pmatrix} 10 \\\\ 8 \\\\ 15 \\\\ 0 \\\\ 24 \\end{pmatrix} $"
   ]
  },
  {
   "cell_type": "code",
<<<<<<< HEAD
   "execution_count": 30,
   "metadata": {},
   "outputs": [
    {
     "name": "stdout",
     "output_type": "stream",
     "text": [
      "11.4\n"
     ]
    }
   ],
   "source": [
    "vec_e = np.array([10, 8, 15, 0, 24])\n",
    "print(np.mean(vec_e))"
   ]
  },
  {
   "cell_type": "markdown",
   "metadata": {},
   "source": [
    "# Create your own array and compute any of the above summary statistics\n",
    "\n",
    "vec_e  = np.array([10, 8, 15, 0, 24])\n",
    "print(np)\n",
    "\n",
=======
   "execution_count": 19,
   "metadata": {},
   "outputs": [
    {
     "data": {
      "text/plain": [
       "11.4"
      ]
     },
     "execution_count": 19,
     "metadata": {},
     "output_type": "execute_result"
    }
   ],
   "source": [
    "# Create your own array and compute any of the above summary statistics\n",
    "\n",
    "e = np.array( [10,8,15,0,24] )\n",
    "\n",
    "np.mean(e)\n",
>>>>>>> e27c0eca97472415d050b2283cc07e60dbe3d0af
    "\n",
    "\n"
   ]
  },
  {
   "attachments": {},
   "cell_type": "markdown",
   "metadata": {},
   "source": [
    "<font size = \"5\">\n",
    "<span style=\"color:red\"> Common Pitfall </span>: Make sure that the arrays have the same size"
   ]
  },
  {
   "cell_type": "code",
<<<<<<< HEAD
   "execution_count": 31,
=======
   "execution_count": 20,
>>>>>>> e27c0eca97472415d050b2283cc07e60dbe3d0af
   "metadata": {},
   "outputs": [
    {
     "name": "stdout",
     "output_type": "stream",
     "text": [
      "[1 2 3]\n",
      "[  10  100 1000 2000 5000]\n"
     ]
    }
   ],
   "source": [
    "print(vec_a)\n",
    "print(vec_c)"
   ]
  },
  {
   "cell_type": "code",
<<<<<<< HEAD
   "execution_count": 33,
=======
   "execution_count": 21,
>>>>>>> e27c0eca97472415d050b2283cc07e60dbe3d0af
   "metadata": {},
   "outputs": [
    {
     "data": {
      "text/plain": [
       "(3,)"
      ]
     },
<<<<<<< HEAD
     "execution_count": 33,
=======
     "execution_count": 21,
>>>>>>> e27c0eca97472415d050b2283cc07e60dbe3d0af
     "metadata": {},
     "output_type": "execute_result"
    }
   ],
   "source": [
    "vec_a.shape"
   ]
  },
  {
   "cell_type": "code",
<<<<<<< HEAD
   "execution_count": 34,
=======
   "execution_count": 22,
>>>>>>> e27c0eca97472415d050b2283cc07e60dbe3d0af
   "metadata": {},
   "outputs": [
    {
     "ename": "ValueError",
     "evalue": "operands could not be broadcast together with shapes (3,) (5,) ",
     "output_type": "error",
     "traceback": [
<<<<<<< HEAD
      "\u001b[1;31m---------------------------------------------------------------------------\u001b[0m",
      "\u001b[1;31mValueError\u001b[0m                                Traceback (most recent call last)",
      "Cell \u001b[1;32mIn[34], line 3\u001b[0m\n\u001b[0;32m      1\u001b[0m \u001b[38;5;66;03m# Here I try to combine two arrays of different size.\u001b[39;00m\n\u001b[1;32m----> 3\u001b[0m vec_a \u001b[38;5;241m+\u001b[39m vec_c\n",
      "\u001b[1;31mValueError\u001b[0m: operands could not be broadcast together with shapes (3,) (5,) "
=======
      "\u001b[0;31m---------------------------------------------------------------------------\u001b[0m",
      "\u001b[0;31mValueError\u001b[0m                                Traceback (most recent call last)",
      "\u001b[0;32m/var/folders/1b/jzb9ndz97b5260fzr9d8kzyh5f7xd6/T/ipykernel_29828/3893591031.py\u001b[0m in \u001b[0;36m<module>\u001b[0;34m\u001b[0m\n\u001b[1;32m      1\u001b[0m \u001b[0;31m# Here I try to combine two arrays of different size.\u001b[0m\u001b[0;34m\u001b[0m\u001b[0;34m\u001b[0m\u001b[0m\n\u001b[1;32m      2\u001b[0m \u001b[0;34m\u001b[0m\u001b[0m\n\u001b[0;32m----> 3\u001b[0;31m \u001b[0mvec_a\u001b[0m \u001b[0;34m+\u001b[0m \u001b[0mvec_c\u001b[0m\u001b[0;34m\u001b[0m\u001b[0;34m\u001b[0m\u001b[0m\n\u001b[0m",
      "\u001b[0;31mValueError\u001b[0m: operands could not be broadcast together with shapes (3,) (5,) "
>>>>>>> e27c0eca97472415d050b2283cc07e60dbe3d0af
     ]
    }
   ],
   "source": [
    "# Here I try to combine two arrays of different size.\n",
    "\n",
    "vec_a + vec_c"
   ]
  },
  {
   "attachments": {},
   "cell_type": "markdown",
   "metadata": {},
   "source": [
    "##  <span style=\"color:darkblue\"> IV. Random Numbers </span>\n",
    "\n",
    "<font size = \"5\">\n",
    "\n",
    "Why randomness?\n",
    "\n",
    "- Simulate different scenarios: high risk or low risk\n",
    "- Study properties of a complex system and/or estimator\n",
    "- In medicine, randomly assign subjects to treatment or control"
   ]
  },
  {
   "attachments": {},
   "cell_type": "markdown",
   "metadata": {},
   "source": [
    "<font size = \"5\">\n",
    "\n",
    "Create a vector of random variables"
   ]
  },
  {
   "cell_type": "code",
<<<<<<< HEAD
   "execution_count": 36,
=======
   "execution_count": 37,
>>>>>>> e27c0eca97472415d050b2283cc07e60dbe3d0af
   "metadata": {},
   "outputs": [
    {
     "name": "stdout",
     "output_type": "stream",
     "text": [
<<<<<<< HEAD
      "[ 0.90710274 -1.33864449 -0.03689085 -0.97073472  2.45681561 -0.59389292\n",
      "  0.62460315  0.36610861 -0.13860967  0.02587461]\n"
=======
      "[ 0.28904557 -0.34259521 -1.53873514  1.95141492 -0.25062358 -0.32367552\n",
      " -0.68196447 -1.70393137 -0.43218152 -1.26016168]\n"
>>>>>>> e27c0eca97472415d050b2283cc07e60dbe3d0af
     ]
    }
   ],
   "source": [
    "# This code creates a vector of random variables \n",
    "# generated from a normal distribution with\n",
    "# mean \"loc\" (location) and standard deviation \"scale\"\n",
    "# the number of distinct variabels is \"size\"\n",
    "\n",
    "randomvar_a = np.random.normal(loc=0, scale=1, size=10)\n",
    "print(randomvar_a)"
   ]
  },
  {
   "attachments": {},
   "cell_type": "markdown",
   "metadata": {},
   "source": [
    "<font size = \"5\">\n",
    "\n",
    "Random numbers differ every time!\n",
    "\n",
    "- Avoid this problem by drawing from a \"pregenerated\" set.\n",
    "- This is called a seed"
   ]
  },
  {
   "cell_type": "code",
<<<<<<< HEAD
   "execution_count": 40,
=======
   "execution_count": 56,
>>>>>>> e27c0eca97472415d050b2283cc07e60dbe3d0af
   "metadata": {},
   "outputs": [
    {
     "name": "stdout",
     "output_type": "stream",
     "text": [
<<<<<<< HEAD
      "[ 1.11417929  1.44487377  0.26473752 -0.41701187 -1.71332341 -0.20751871\n",
      " -0.2088598  -1.03876599 -0.15437717 -0.67879554]\n"
=======
      "[ 1.3315865   0.71527897 -1.54540029 -0.00838385  0.62133597 -0.72008556\n",
      "  0.26551159  0.10854853  0.00429143 -0.17460021]\n"
>>>>>>> e27c0eca97472415d050b2283cc07e60dbe3d0af
     ]
    }
   ],
   "source": [
    "# Your computer will typically generate different numbers every time you run a command\n",
    "# However, sometimes you want to be able to replicate the results\n",
    "# You can choose any other number instead of \"12345\". This will produce another set\n",
    "# of random numbers, but they will give the same answers\n",
    "\n",
    "np.random.seed(103931)\n",
    "\n",
    "random_var_b = np.random.normal(loc=0, scale=1, size=10)\n",
    "print(random_var_b)"
   ]
  },
  {
   "attachments": {},
   "cell_type": "markdown",
   "metadata": {},
   "source": [
    "<font size = \"5\">\n",
    "\n",
    "Compute a histogram with the results"
   ]
  },
  {
   "cell_type": "code",
<<<<<<< HEAD
   "execution_count": 41,
=======
   "execution_count": 58,
>>>>>>> e27c0eca97472415d050b2283cc07e60dbe3d0af
   "metadata": {},
   "outputs": [
    {
     "data": {
      "text/plain": [
       "Text(0, 0.5, 'Frequency')"
      ]
     },
<<<<<<< HEAD
     "execution_count": 41,
=======
     "execution_count": 58,
>>>>>>> e27c0eca97472415d050b2283cc07e60dbe3d0af
     "metadata": {},
     "output_type": "execute_result"
    },
    {
     "data": {
<<<<<<< HEAD
      "image/png": "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",
=======
      "image/png": "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",
>>>>>>> e27c0eca97472415d050b2283cc07e60dbe3d0af
      "text/plain": [
       "<Figure size 640x480 with 1 Axes>"
      ]
     },
     "metadata": {},
     "output_type": "display_data"
    }
   ],
   "source": [
    "# Compute a histogram\n",
    "# You can edit the number of bins with plt.hist(x = randomvar_a)\n",
    "\n",
    "randomvar_x = np.random.normal(loc=0, scale=1, size=1000)\n",
    "\n",
    "plt.hist(x = randomvar_x)\n",
    "plt.xlabel(\"Variable a\")\n",
    "plt.ylabel(\"Frequency\")"
   ]
  },
  {
   "attachments": {},
   "cell_type": "markdown",
   "metadata": {},
   "source": [
    "<font size = \"5\">\n",
    "\n",
    "Try this again with $size = 100, 1000, 10000$"
   ]
  },
  {
   "cell_type": "code",
   "execution_count": 64,
   "metadata": {},
   "outputs": [
    {
     "data": {
      "text/plain": [
       "Text(0, 0.5, 'Frequency')"
      ]
     },
     "execution_count": 64,
     "metadata": {},
     "output_type": "execute_result"
    },
    {
     "data": {
      "image/png": "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",
      "text/plain": [
       "<Figure size 640x480 with 1 Axes>"
      ]
     },
     "metadata": {},
     "output_type": "display_data"
    }
   ],
   "source": [
    "# Write the code for your histogram\n",
    "\n",
<<<<<<< HEAD
    "randomvar_x_100 = np.random.normal(loc=0, scale=1, size=100)\n",
    "plt.hist(x = randomvar_x_100)\n",
    "plt.xlabel(\"Variable a\")\n",
    "plt.ylabel(\"Frequency\")\n",
    "\n",
    "randomvar_x_1000 = np.random.normal(loc=0, scale=1, size=1000)\n",
    "plt.hist(x = randomvar_x_1000)\n",
    "plt.xlabel(\"Variable a\")\n",
    "plt.ylabel(\"Frequency\")\n",
    "\n",
    "randomvar_x_10000 = np.random.normal(loc=0, scale=1, size=10000)\n",
    "plt.hist(x = randomvar_x_10000)\n",
    "plt.xlabel(\"Variable a\")\n",
    "plt.ylabel(\"Frequency\")\n",
=======
    "# Compute a histogram\n",
    "# You can edit the number of bins with plt.hist(x = randomvar_a)\n",
    "\n",
    "randomvar_x = np.random.normal(loc=0, scale=1, size=10000)\n",
>>>>>>> e27c0eca97472415d050b2283cc07e60dbe3d0af
    "\n",
    "plt.hist(x = randomvar_x)\n",
    "plt.xlabel(\"Variable a\")\n",
    "\n",
    "plt.ylabel(\"Frequency\")\n",
    "\n"
   ]
  },
  {
   "attachments": {},
   "cell_type": "markdown",
   "metadata": {},
   "source": [
    "# <span style=\"color:darkblue\"> Additional Resources </span>\n",
    "\n",
    "<font size=\"5\"> \n",
    "\n",
    "Check out additional examples at:\n",
    "\n",
    "- https://allendowney.github.io/ElementsOfDataScience/03_arrays.html\n",
    "\n",
    "\n"
   ]
  },
  {
   "cell_type": "markdown",
   "metadata": {},
   "source": [
    "<font size = \"20\">\n",
    "\n",
    "asdasd\n"
   ]
  },
  {
   "attachments": {},
   "cell_type": "markdown",
   "metadata": {},
   "source": [
    "# <span style=\"color:darkblue\"> (Optional) Matrix Operations </span>\n",
    "\n",
    "<font size=\"5\"> \n"
   ]
  },
  {
   "attachments": {},
   "cell_type": "markdown",
   "metadata": {},
   "source": [
    "<font size = \"5\">\n",
    "Creating a matrix by stacking different rows\n",
    "\n",
    "$ \\text{ }$\n",
    "\n",
    "$ X = \\begin{pmatrix} 1 & 2 & 3 \\\\ \n",
    "                       0 & 4 & 5 \\\\\n",
    "                       0 & 0 & 6\n",
    "                       \\end{pmatrix} $"
   ]
  },
  {
   "cell_type": "code",
<<<<<<< HEAD
   "execution_count": 50,
=======
   "execution_count": 65,
>>>>>>> e27c0eca97472415d050b2283cc07e60dbe3d0af
   "metadata": {},
   "outputs": [
    {
     "name": "stdout",
     "output_type": "stream",
     "text": [
      "[[1 2 3]\n",
      " [0 4 5]\n",
      " [0 0 6]]\n"
     ]
    }
   ],
   "source": [
    "# Matrices are usually denoted by capital letters\n",
    "# The object [[1,2,3],[4,5,6],[7,8,9]] is a list of lists\n",
    "# It's useful to maintain this notation in the code as well\n",
    "\n",
    "X = np.array([[1,2,3],[0,4,5],[0,0,6]])\n",
    "print(X)"
   ]
  },
  {
   "attachments": {},
   "cell_type": "markdown",
   "metadata": {},
   "source": [
    "<font size = \"5\">\n",
    "Creating a matrix by stacking different columns\n",
    "\n",
    "$ \\text{ } $\n",
    "\n",
    "$ Y = \\begin{pmatrix} 1 & 2 \\\\ 0 & 1 \\\\ 1 & 0 \\end{pmatrix}$"
   ]
  },
  {
   "cell_type": "code",
   "execution_count": null,
   "metadata": {},
   "outputs": [],
   "source": [
    "# You can also stack columns\n",
    "Y =  np.column_stack([[1,0,1],[2,1,0]])\n",
    "print(Y)"
   ]
  },
  {
   "attachments": {},
   "cell_type": "markdown",
   "metadata": {},
   "source": [
    "<font size = \"5\">\n",
    "Transpose\n",
    "\n",
    "$ \\text{ }$\n",
    "\n",
    "$ Y' = \\begin{pmatrix}  1 & 0 & 1 \\\\ 2 & 1 & 0  \\end{pmatrix} $"
   ]
  },
  {
   "cell_type": "code",
   "execution_count": null,
   "metadata": {},
   "outputs": [],
   "source": [
    "# Matrix Transpose\n",
    "np.matrix.transpose(Y)"
   ]
  },
  {
   "attachments": {},
   "cell_type": "markdown",
   "metadata": {},
   "source": [
    "<font size = \"5\">\n",
    "\n",
    "Matrix multiplication\n",
    "\n",
    "$ XY = \\begin{pmatrix} 1 & 2 & 3 \\\\ \n",
    "                       0 & 4 & 5 \\\\\n",
    "                       0 & 0 & 6\n",
    "                       \\end{pmatrix}\n",
    "                       \\begin{pmatrix} 1 & 2 \\\\ 0 & 1 \\\\ 1 & 0 \\end{pmatrix} = \n",
    "        \\begin{pmatrix} 4 & 4 \\\\ 5 & 4 \\\\ 6 & 0 \\end{pmatrix} $"
   ]
  },
  {
   "cell_type": "code",
   "execution_count": null,
   "metadata": {},
   "outputs": [],
   "source": [
    "# Matrix Multiplication\n",
    "\n",
    "np.dot(X,Y)\n",
    "\n",
    "np.matmul(X,Y)"
   ]
  },
  {
   "attachments": {},
   "cell_type": "markdown",
   "metadata": {},
   "source": [
    "<font size = \"5\">\n",
    "\n",
    "Matrix inverse\n",
    "\n",
    "$ X^{-1} = \\begin{pmatrix} 1 & 2 & 3 \\\\ \n",
    "                       0 & 4 & 5 \\\\\n",
    "                       0 & 0 & 6\n",
    "                       \\end{pmatrix}^{-1} $"
   ]
  },
  {
   "cell_type": "code",
   "execution_count": null,
   "metadata": {},
   "outputs": [],
   "source": [
    "# Check the determinant of a matrix (a matrix is invertible if the determinant is not zero)\n",
    "print(np.linalg.det(X))\n",
    "\n",
    "# Matrix inverse\n",
    "# The following command stands for linear algebrar inverse.\n",
    "X_inv = np.linalg.inv(X)\n",
    "\n",
    "# Output the result\n",
    "print(X_inv)\n"
   ]
  },
  {
   "attachments": {},
   "cell_type": "markdown",
   "metadata": {},
   "source": [
    "<font size = \"5\">\n",
    "\n",
    "Try it yourself! Check that this is indeed an inverse:\n",
    "\n",
    "$X X_{inv} = \\begin{pmatrix} 1 & 0 & 0 \\\\ 0 & 1 & 0 \\\\ 0 & 0 & 1 \\end{pmatrix}$"
   ]
  },
  {
   "cell_type": "code",
   "execution_count": null,
   "metadata": {},
   "outputs": [],
   "source": [
    "# Multiply \"X\" times \"X_inv\" using the command shown above\n",
    "# Note: Sometimes the result is shown in scientific notation.\n",
    "\n",
    "\n",
    "\n"
   ]
  }
 ],
 "metadata": {
  "kernelspec": {
   "display_name": "base",
   "language": "python",
   "name": "python3"
  },
  "language_info": {
   "codemirror_mode": {
    "name": "ipython",
    "version": 3
   },
   "file_extension": ".py",
   "mimetype": "text/x-python",
   "name": "python",
   "nbconvert_exporter": "python",
   "pygments_lexer": "ipython3",
<<<<<<< HEAD
   "version": "3.11.5"
=======
   "version": "3.9.13"
>>>>>>> e27c0eca97472415d050b2283cc07e60dbe3d0af
  },
  "orig_nbformat": 4,
  "vscode": {
   "interpreter": {
    "hash": "45fc1f684f6f416f40889115beff3ddf69879b64cf4bfee48cb72a61e9d15d1a"
   }
  }
 },
 "nbformat": 4,
 "nbformat_minor": 2
}
