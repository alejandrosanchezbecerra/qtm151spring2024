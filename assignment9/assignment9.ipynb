{
 "cells": [
  {
   "attachments": {},
   "cell_type": "markdown",
   "metadata": {},
   "source": [
    "# Assignment 9"
   ]
  },
  {
   "attachments": {},
   "cell_type": "markdown",
   "metadata": {},
   "source": [
    "## Try to submit as an HTML file"
   ]
  },
  {
   "attachments": {},
   "cell_type": "markdown",
   "metadata": {},
   "source": [
    "<font size = \"5\">\n",
    "Print your Emory ID below"
   ]
  },
  {
   "cell_type": "code",
   "execution_count": 1,
   "metadata": {},
   "outputs": [
    {
     "name": "stdout",
     "output_type": "stream",
     "text": [
      "2484403\n"
     ]
    }
   ],
   "source": [
    "# Write your answer here:\n",
    "\n",
    "print(\"2484403\")"
   ]
  },
  {
   "attachments": {},
   "cell_type": "markdown",
   "metadata": {},
   "source": [
    "<font size = \"5\">\n",
    "\n",
    "Import the \"pandas\" and \n",
    "\n",
    "\"sqlalchemy\",\"URL\", and \"text\" libraries from \"sqlalchemy\" <br>\n"
   ]
  },
  {
   "cell_type": "code",
   "execution_count": 2,
   "metadata": {},
   "outputs": [],
   "source": [
    "# Write your answer here:\n",
    "\n",
    "import pandas as pd \n",
    "from sqlalchemy import create_engine\n",
    "from sqlalchemy.engine import URL\n",
    "from sqlalchemy import text\n",
    "\n"
   ]
  },
  {
   "attachments": {},
   "cell_type": "markdown",
   "metadata": {},
   "source": [
    "<font size = \"5\">\n",
    "\n",
    "Establish a connection to the SQL server and database ```postgres``` <br>\n",
    "from Python as done in  class  using <br>\n",
    "```URL()``` and ```create_engine()```<br>\n",
    "As we are are in the default database, you can leave out the database argument."
   ]
  },
  {
   "cell_type": "code",
   "execution_count": 3,
   "metadata": {},
   "outputs": [],
   "source": [
    "# Write your own code\n",
    "\n",
    "url_server = URL.create(\n",
    "    \"postgresql\",\n",
    "    host = 'localhost',\n",
    "    \n",
    "    username = 'postgres',\n",
    "    port = 5432,\n",
    "    password  = \"\")\n",
    "\n",
    "connection = create_engine(url_server)\n"
   ]
  },
  {
   "attachments": {},
   "cell_type": "markdown",
   "metadata": {},
   "source": [
    "<font size = \"5\">\n",
    "\n",
    "In this homework, you will repeat most of the  exercises in <br>\n",
    "Assignment 8, this time accessing SQL indirectly <br>\n",
    "from Python\n",
    "\n",
    "<font size = \"3\">\n",
    "\n",
    "- For (a)-(e) read the section <br>\n",
    "on \"Escape Characters\" carefully and how to write <br>\n",
    "strings in multiple lines\n",
    "- Ensure for each exercise you are using the specific Python commands(ie-pd.read_sql)"
   ]
  },
  {
   "attachments": {},
   "cell_type": "markdown",
   "metadata": {},
   "source": [
    "\n",
    "<font size = \"5\">\n",
    "\n",
    "(a) Upload dataset to SQL\n",
    "\n",
    "\n",
    "<font size = \"3\">\n",
    "\n",
    "- Read the file \"homework9_table.csv\" in the \"data_raw\" folder\n",
    "- Upload the file to your local SQL server using the <br>\n",
    "\"to_sql\" command. Call the new file \"sprint_results\" in the <br>\n",
    "server"
   ]
  },
  {
   "cell_type": "code",
   "execution_count": 10,
   "metadata": {},
   "outputs": [
    {
     "data": {
      "text/plain": [
       "10"
      ]
     },
     "execution_count": 10,
     "metadata": {},
     "output_type": "execute_result"
    }
   ],
   "source": [
    "# Write your own code\n",
    "\n",
    "A_9 = pd.read_csv(\"data_raw/homework9_table.csv\")\n",
    "\n",
    "A_9.to_sql('sprint_results', \n",
    "             con = connection, \n",
    "             if_exists='replace',\n",
    "             index=False)\n"
   ]
  },
  {
   "cell_type": "markdown",
   "metadata": {},
   "source": [
    "\n",
    "<font size = \"5\">\n",
    "\n",
    "For questions (b)-(e) we will be working with the table <br>\n",
    "``` homework9_table ``` in the SQL server. You are required to use <br>\n",
    "the ```read_sql``` command for all the following questions."
   ]
  },
  {
   "cell_type": "markdown",
   "metadata": {},
   "source": [
    "\n",
    "<font size = \"5\">\n",
    "\n",
    "(b) Subset and sort\n",
    "\n",
    "\n",
    "<font size = \"3\">\n",
    "\n",
    "- Use ```WHERE``` to get a subset of \"homework9_table\" to subset <br>\n",
    "drivers whose nationality is British.\n",
    "- Chain this with ```ORDER BY driver_name ASC``` to sort in <br>\n",
    "ascending order <br>\n",
    "Hints:\n",
    "- Remember to include a  ```\\```  to be able to define strings over multiple lines\n",
    "- We can include single quotations in the WHERE command without any additional escape characters"
   ]
  },
  {
   "cell_type": "code",
   "execution_count": 12,
   "metadata": {},
   "outputs": [
    {
     "data": {
      "text/html": [
       "<div>\n",
       "<style scoped>\n",
       "    .dataframe tbody tr th:only-of-type {\n",
       "        vertical-align: middle;\n",
       "    }\n",
       "\n",
       "    .dataframe tbody tr th {\n",
       "        vertical-align: top;\n",
       "    }\n",
       "\n",
       "    .dataframe thead th {\n",
       "        text-align: right;\n",
       "    }\n",
       "</style>\n",
       "<table border=\"1\" class=\"dataframe\">\n",
       "  <thead>\n",
       "    <tr style=\"text-align: right;\">\n",
       "      <th></th>\n",
       "      <th>Unnamed: 0</th>\n",
       "      <th>driver_id</th>\n",
       "      <th>driver_name</th>\n",
       "      <th>nationality</th>\n",
       "      <th>lap_times</th>\n",
       "    </tr>\n",
       "  </thead>\n",
       "  <tbody>\n",
       "    <tr>\n",
       "      <th>0</th>\n",
       "      <td>5</td>\n",
       "      <td>6</td>\n",
       "      <td>Henry Louvre</td>\n",
       "      <td>British</td>\n",
       "      <td>32</td>\n",
       "    </tr>\n",
       "    <tr>\n",
       "      <th>1</th>\n",
       "      <td>4</td>\n",
       "      <td>5</td>\n",
       "      <td>Lewis Hamilton</td>\n",
       "      <td>British</td>\n",
       "      <td>103</td>\n",
       "    </tr>\n",
       "    <tr>\n",
       "      <th>2</th>\n",
       "      <td>0</td>\n",
       "      <td>1</td>\n",
       "      <td>Simon Cowell</td>\n",
       "      <td>British</td>\n",
       "      <td>74</td>\n",
       "    </tr>\n",
       "  </tbody>\n",
       "</table>\n",
       "</div>"
      ],
      "text/plain": [
       "   Unnamed: 0  driver_id     driver_name nationality  lap_times\n",
       "0           5          6    Henry Louvre     British         32\n",
       "1           4          5  Lewis Hamilton     British        103\n",
       "2           0          1    Simon Cowell     British         74"
      ]
     },
     "execution_count": 12,
     "metadata": {},
     "output_type": "execute_result"
    }
   ],
   "source": [
    "# Write your own code\n",
    "\n",
    "british = pd.read_sql(text(\"SELECT * \\\n",
    "                           FROM sprint_results \\\n",
    "                            WHERE nationality = 'British'\\\n",
    "                                ORDER BY driver_name ASC ;\"), connection)\n",
    "\n",
    "british\n"
   ]
  },
  {
   "attachments": {},
   "cell_type": "markdown",
   "metadata": {},
   "source": [
    "<font size = \"5\">\n",
    "\n",
    "(c) Groupby + Aggregate + Sort\n",
    "\n",
    "<font size = \"3\">\n",
    "\n",
    "- Obtain the average of \"lap_times\" by \"driverId\" using ```GROUP BY```\n",
    "- Use ```ORDER BY ``` to sort by the average of \"lap_times\"\n",
    "- Make sure to seperate pieces of your logic over seperate lines  by a ```\\```\n"
   ]
  },
  {
   "cell_type": "code",
   "execution_count": 55,
   "metadata": {},
   "outputs": [
    {
     "data": {
      "text/html": [
       "<div>\n",
       "<style scoped>\n",
       "    .dataframe tbody tr th:only-of-type {\n",
       "        vertical-align: middle;\n",
       "    }\n",
       "\n",
       "    .dataframe tbody tr th {\n",
       "        vertical-align: top;\n",
       "    }\n",
       "\n",
       "    .dataframe thead th {\n",
       "        text-align: right;\n",
       "    }\n",
       "</style>\n",
       "<table border=\"1\" class=\"dataframe\">\n",
       "  <thead>\n",
       "    <tr style=\"text-align: right;\">\n",
       "      <th></th>\n",
       "      <th>driver_id</th>\n",
       "      <th>mean_laptimes</th>\n",
       "    </tr>\n",
       "  </thead>\n",
       "  <tbody>\n",
       "    <tr>\n",
       "      <th>0</th>\n",
       "      <td>9</td>\n",
       "      <td>11.0</td>\n",
       "    </tr>\n",
       "    <tr>\n",
       "      <th>1</th>\n",
       "      <td>10</td>\n",
       "      <td>24.0</td>\n",
       "    </tr>\n",
       "    <tr>\n",
       "      <th>2</th>\n",
       "      <td>2</td>\n",
       "      <td>26.0</td>\n",
       "    </tr>\n",
       "    <tr>\n",
       "      <th>3</th>\n",
       "      <td>6</td>\n",
       "      <td>32.0</td>\n",
       "    </tr>\n",
       "    <tr>\n",
       "      <th>4</th>\n",
       "      <td>8</td>\n",
       "      <td>53.0</td>\n",
       "    </tr>\n",
       "    <tr>\n",
       "      <th>5</th>\n",
       "      <td>1</td>\n",
       "      <td>74.0</td>\n",
       "    </tr>\n",
       "    <tr>\n",
       "      <th>6</th>\n",
       "      <td>3</td>\n",
       "      <td>82.0</td>\n",
       "    </tr>\n",
       "    <tr>\n",
       "      <th>7</th>\n",
       "      <td>4</td>\n",
       "      <td>87.0</td>\n",
       "    </tr>\n",
       "    <tr>\n",
       "      <th>8</th>\n",
       "      <td>7</td>\n",
       "      <td>91.0</td>\n",
       "    </tr>\n",
       "    <tr>\n",
       "      <th>9</th>\n",
       "      <td>5</td>\n",
       "      <td>103.0</td>\n",
       "    </tr>\n",
       "  </tbody>\n",
       "</table>\n",
       "</div>"
      ],
      "text/plain": [
       "   driver_id  mean_laptimes\n",
       "0          9           11.0\n",
       "1         10           24.0\n",
       "2          2           26.0\n",
       "3          6           32.0\n",
       "4          8           53.0\n",
       "5          1           74.0\n",
       "6          3           82.0\n",
       "7          4           87.0\n",
       "8          7           91.0\n",
       "9          5          103.0"
      ]
     },
     "execution_count": 55,
     "metadata": {},
     "output_type": "execute_result"
    }
   ],
   "source": [
    "# Write your own code\n",
    "\n",
    "laptimes = pd.read_sql(text(\"SELECT \\\n",
    "                            driver_id,\\\n",
    "                            AVG(lap_times) AS mean_laptimes \\\n",
    "                            FROM sprint_results \\\n",
    "                            GROUP BY driver_id \\\n",
    "                            ORDER BY mean_laptimes;\"), connection)\n",
    "\n",
    "laptimes\n",
    "\n"
   ]
  },
  {
   "attachments": {},
   "cell_type": "markdown",
   "metadata": {},
   "source": [
    "<font size = \"5\">\n",
    "\n",
    "(d) Groupby + Aggregate + Sort\n",
    "\n",
    "<font size = \"3\">\n",
    "\n",
    "- Obtain the sum of \"lap_times\" by nationality using ```GROUP BY```\n",
    "- Use ```HAVING ``` to filter nationalities with a sum <br>\n",
    "of lap times strictly higher than 150\n",
    "- Make sure to seperate pieces of your logic over seperate lines  by a ```\\```\n",
    "\n",
    "\n",
    "\n",
    "HINT: See the end of lecture 16 for details <br>\n",
    "HINT: Use ```HAVING SUM(lap_times)``` rather than an alias <br>\n",
    "for the code to work correctly."
   ]
  },
  {
   "cell_type": "code",
   "execution_count": 51,
   "metadata": {},
   "outputs": [
    {
     "data": {
      "text/html": [
       "<div>\n",
       "<style scoped>\n",
       "    .dataframe tbody tr th:only-of-type {\n",
       "        vertical-align: middle;\n",
       "    }\n",
       "\n",
       "    .dataframe tbody tr th {\n",
       "        vertical-align: top;\n",
       "    }\n",
       "\n",
       "    .dataframe thead th {\n",
       "        text-align: right;\n",
       "    }\n",
       "</style>\n",
       "<table border=\"1\" class=\"dataframe\">\n",
       "  <thead>\n",
       "    <tr style=\"text-align: right;\">\n",
       "      <th></th>\n",
       "      <th>nationality</th>\n",
       "      <th>total_laptimes</th>\n",
       "    </tr>\n",
       "  </thead>\n",
       "  <tbody>\n",
       "    <tr>\n",
       "      <th>0</th>\n",
       "      <td>German</td>\n",
       "      <td>261.0</td>\n",
       "    </tr>\n",
       "    <tr>\n",
       "      <th>1</th>\n",
       "      <td>British</td>\n",
       "      <td>209.0</td>\n",
       "    </tr>\n",
       "  </tbody>\n",
       "</table>\n",
       "</div>"
      ],
      "text/plain": [
       "  nationality  total_laptimes\n",
       "0      German           261.0\n",
       "1     British           209.0"
      ]
     },
     "execution_count": 51,
     "metadata": {},
     "output_type": "execute_result"
    }
   ],
   "source": [
    "# Write your own code\n",
    "\n",
    "\n",
    "ex_d = pd.read_sql(text(\"SELECT \\\n",
    "                        nationality,\\\n",
    "                        SUM(lap_times) AS total_laptimes \\\n",
    "                        FROM sprint_results \\\n",
    "                        GROUP BY nationality \\\n",
    "                        HAVING SUM(lap_times) > 150 ;\"), connection )\n",
    "\n",
    "ex_d\n",
    "\n"
   ]
  },
  {
   "attachments": {},
   "cell_type": "markdown",
   "metadata": {},
   "source": [
    "<font size = \"5\">\n",
    "\n",
    "(e) Groupby and multiple aggregations\n",
    "\n",
    "<font size = \"3\">\n",
    "\n",
    "- In this exercise we will obtain multiple statistics about each nationality and their lap times.\n",
    "-  Obtain the sum, min, max, and range of each nationality's lap times using ```GROUP BY```\n",
    "- Make sure to separate pieces of your code by a ```\\``` <br>\n",
    "HINT: There is no built in range function in SQL, however you can use the <br>\n",
    "MAX and MIN functions to build your own function, like this:\n",
    "\n",
    "``` MAX(lap_times)-MIN(lap_times) AS range_laptimes```"
   ]
  },
  {
   "cell_type": "code",
   "execution_count": 54,
   "metadata": {},
   "outputs": [
    {
     "data": {
      "text/html": [
       "<div>\n",
       "<style scoped>\n",
       "    .dataframe tbody tr th:only-of-type {\n",
       "        vertical-align: middle;\n",
       "    }\n",
       "\n",
       "    .dataframe tbody tr th {\n",
       "        vertical-align: top;\n",
       "    }\n",
       "\n",
       "    .dataframe thead th {\n",
       "        text-align: right;\n",
       "    }\n",
       "</style>\n",
       "<table border=\"1\" class=\"dataframe\">\n",
       "  <thead>\n",
       "    <tr style=\"text-align: right;\">\n",
       "      <th></th>\n",
       "      <th>nationality</th>\n",
       "      <th>total_laptimes</th>\n",
       "      <th>min_laptime</th>\n",
       "      <th>max_laptime</th>\n",
       "      <th>range_laptimes</th>\n",
       "    </tr>\n",
       "  </thead>\n",
       "  <tbody>\n",
       "    <tr>\n",
       "      <th>0</th>\n",
       "      <td>German</td>\n",
       "      <td>261.0</td>\n",
       "      <td>11</td>\n",
       "      <td>91</td>\n",
       "      <td>80</td>\n",
       "    </tr>\n",
       "    <tr>\n",
       "      <th>1</th>\n",
       "      <td>Spanish</td>\n",
       "      <td>113.0</td>\n",
       "      <td>26</td>\n",
       "      <td>87</td>\n",
       "      <td>61</td>\n",
       "    </tr>\n",
       "    <tr>\n",
       "      <th>2</th>\n",
       "      <td>British</td>\n",
       "      <td>209.0</td>\n",
       "      <td>32</td>\n",
       "      <td>103</td>\n",
       "      <td>71</td>\n",
       "    </tr>\n",
       "  </tbody>\n",
       "</table>\n",
       "</div>"
      ],
      "text/plain": [
       "  nationality  total_laptimes  min_laptime  max_laptime  range_laptimes\n",
       "0      German           261.0           11           91              80\n",
       "1     Spanish           113.0           26           87              61\n",
       "2     British           209.0           32          103              71"
      ]
     },
     "execution_count": 54,
     "metadata": {},
     "output_type": "execute_result"
    }
   ],
   "source": [
    "# Write your own code\n",
    "\n",
    "\n",
    "ex_e = pd.read_sql(text(\"SELECT\\\n",
    "                        nationality,\\\n",
    "                        SUM(lap_times) AS total_laptimes,\\\n",
    "                        MIN(lap_times) AS min_laptime,\\\n",
    "                        MAX(lap_times) AS max_laptime,\\\n",
    "                        MAX(lap_times) - MIN(lap_times) AS range_laptimes\\\n",
    "                        FROM sprint_results\\\n",
    "                        GROUP BY nationality;\"), connection)\n",
    "\n",
    "\n",
    "ex_e"
   ]
  }
 ],
 "metadata": {
  "kernelspec": {
   "display_name": "base",
   "language": "python",
   "name": "python3"
  },
  "language_info": {
   "codemirror_mode": {
    "name": "ipython",
    "version": 3
   },
   "file_extension": ".py",
   "mimetype": "text/x-python",
   "name": "python",
   "nbconvert_exporter": "python",
   "pygments_lexer": "ipython3",
   "version": "3.11.5"
  },
  "orig_nbformat": 4,
  "vscode": {
   "interpreter": {
    "hash": "45fc1f684f6f416f40889115beff3ddf69879b64cf4bfee48cb72a61e9d15d1a"
   }
  }
 },
 "nbformat": 4,
 "nbformat_minor": 2
}
