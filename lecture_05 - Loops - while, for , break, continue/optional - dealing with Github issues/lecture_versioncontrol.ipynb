{
 "cells": [
  {
   "attachments": {},
   "cell_type": "markdown",
   "metadata": {},
   "source": [
    "# <span style=\"color:darkblue\"> Lecture 5 (Optional) Issues with Github Updating </span>"
   ]
  },
  {
   "attachments": {},
   "cell_type": "markdown",
   "metadata": {},
   "source": [
    "<font size=\"5\"> \n",
    "\n",
    "In this file you will learn about corrupted files"
   ]
  },
  {
   "cell_type": "markdown",
   "metadata": {},
   "source": [
    "# <span style=\"color:darkblue\"> I. Version control </span>"
   ]
  },
  {
   "cell_type": "markdown",
   "metadata": {},
   "source": [
    "<font size=\"5\"> \n",
    "\n",
    "When there are multiple collaborators on a project, <br>\n",
    "it is not natural to expect conflict in versions\n",
    "\n",
    "For example:\n",
    "1. You made a change in the lecture note 4\n",
    "2. The instructor made a change in the lecture note 4\n",
    "3. When you update Github detects a confict in this file"
   ]
  },
  {
   "cell_type": "markdown",
   "metadata": {},
   "source": [
    "<img src=\"../figures/example_conflictingversions.png\" alt=\"drawing\" width=\"500\"/> \n",
    "\n"
   ]
  },
  {
   "cell_type": "markdown",
   "metadata": {},
   "source": [
    "<font size = \"5\">\n",
    "\n",
    "- If you select \"Use from upstream\" it will take the instructor's file\n",
    "- If you select \"Use main\" is will keep your current file\n",
    "\n",
    "Avoid issues by renaming any personal files and/or <br> commit changes before\n",
    "updating from upstream.\n"
   ]
  },
  {
   "cell_type": "markdown",
   "metadata": {},
   "source": [
    "# <span style=\"color:darkblue\"> II. Corrupted Files </span>"
   ]
  },
  {
   "cell_type": "markdown",
   "metadata": {},
   "source": [
    "<font size = \"5\">\n",
    "\n",
    "When you don't select an option you get a corrupted file:\n",
    "\n",
    "example_corruptedlecturefile.ipynb\n",
    "\n",
    "If you open it, you will see the following"
   ]
  },
  {
   "cell_type": "markdown",
   "metadata": {},
   "source": [
    "<img src=\"../figures/example_corruptedfile.png\" alt=\"drawing\" width=\"500\"/> \n",
    "\n"
   ]
  },
  {
   "cell_type": "markdown",
   "metadata": {},
   "source": [
    "<font size =\"5\">\n",
    "\n",
    "This file contains all the places where there was a conflict.\n",
    "\n",
    "- If this was a real project, you could go line by line, <br>\n",
    "keeping the blue and deleting the green, or viceversa\n",
    "- Another option is to revert to an earlier version <br>\n",
    "(assuming you've saved your work often and commited it)\n",
    "- For this class I advise you to ask for an uncorrupted file <br>\n",
    "from a classmate or contact the instructor/TAs.\n",
    "\n"
   ]
  }
 ],
 "metadata": {
  "kernelspec": {
   "display_name": "base",
   "language": "python",
   "name": "python3"
  },
  "language_info": {
   "codemirror_mode": {
    "name": "ipython",
    "version": 3
   },
   "file_extension": ".py",
   "mimetype": "text/x-python",
   "name": "python",
   "nbconvert_exporter": "python",
   "pygments_lexer": "ipython3",
   "version": "3.9.13"
  },
  "orig_nbformat": 4,
  "vscode": {
   "interpreter": {
    "hash": "45fc1f684f6f416f40889115beff3ddf69879b64cf4bfee48cb72a61e9d15d1a"
   }
  }
 },
 "nbformat": 4,
 "nbformat_minor": 2
}
